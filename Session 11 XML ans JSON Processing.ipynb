{
 "cells": [
  {
   "cell_type": "code",
   "execution_count": null,
   "metadata": {},
   "outputs": [],
   "source": [
    "XML \n",
    "JSON "
   ]
  },
  {
   "cell_type": "code",
   "execution_count": null,
   "metadata": {},
   "outputs": [],
   "source": [
    "JSON => Python Dict \n",
    "str '' \" \" \"\"\" \"\"\"            \" \"\n",
    "list []                       [] => array \n",
    "tuple ()                      NA\n",
    "dict {\"key\":\"value\"}          {\"key\":\"value\"} => JSON Objects \n",
    "int 10                        numbers 101 10.222 \n",
    "float 10.22 \n",
    "set {}                        NA "
   ]
  },
  {
   "cell_type": "code",
   "execution_count": 14,
   "metadata": {
    "scrolled": true
   },
   "outputs": [
    {
     "name": "stdout",
     "output_type": "stream",
     "text": [
      "{\n",
      "    \"glossary\": {\n",
      "        \"title\": \"Set the new title for JSON file\",\n",
      "        \"GlossDiv\": {\n",
      "            \"title\": \"S\",\n",
      "            \"GlossList\": {\n",
      "                \"GlossEntry\": {\n",
      "                    \"ID\": [\n",
      "                        \"SGML\",\n",
      "                        \"HTML\"\n",
      "                    ],\n",
      "                    \"SortAs\": \"SGML\",\n",
      "                    \"GlossTerm\": \"Standard Generalized Markup Language\",\n",
      "                    \"Acronym\": \"SGML\",\n",
      "                    \"Abbrev\": \"ISO 8879:1986\",\n",
      "                    \"GlossDef\": {\n",
      "                        \"para\": \"A meta-markup language, used to create markup languages such as DocBook.\",\n",
      "                        \"GlossSeeAlso\": [\n",
      "                            \"GML\",\n",
      "                            \"XML\"\n",
      "                        ]\n",
      "                    },\n",
      "                    \"GlossSee\": \"markup\"\n",
      "                }\n",
      "            }\n",
      "        }\n",
      "    }\n",
      "}\n"
     ]
    }
   ],
   "source": [
    "import json\n",
    "fp = open(\"test.json\",\"r\")\n",
    "content = fp.read()\n",
    "fp.close()\n",
    "d =json.loads(content)\n",
    "# print(d['glossary']['title'])\n",
    "d['glossary']['title'] = \"Set the new title for JSON file\"\n",
    "# print(d['glossary']['GlossDiv']['GlossList']['GlossEntry']['ID'])\n",
    "d['glossary']['GlossDiv']['GlossList']['GlossEntry']['ID'] = (\"SGML\",\"HTML\")\n",
    "\n",
    "j = json.dumps(d,indent = 4)\n",
    "print(j)\n",
    "\n",
    "fp2 = open(\"test2.json\",\"w\")\n",
    "fp2.write(j)\n",
    "fp2.close()"
   ]
  },
  {
   "cell_type": "code",
   "execution_count": null,
   "metadata": {},
   "outputs": [],
   "source": [
    "Loads = > Json to python dict \n",
    "Dumps => python dict to json "
   ]
  },
  {
   "cell_type": "code",
   "execution_count": 4,
   "metadata": {},
   "outputs": [
    {
     "name": "stdout",
     "output_type": "stream",
     "text": [
      "16\n"
     ]
    }
   ],
   "source": [
    "d = {1:1,2:4,3:9,4:16}\n",
    "print(d.get(4))"
   ]
  }
 ],
 "metadata": {
  "kernelspec": {
   "display_name": "Python 3",
   "language": "python",
   "name": "python3"
  },
  "language_info": {
   "codemirror_mode": {
    "name": "ipython",
    "version": 3
   },
   "file_extension": ".py",
   "mimetype": "text/x-python",
   "name": "python",
   "nbconvert_exporter": "python",
   "pygments_lexer": "ipython3",
   "version": "3.6.5"
  }
 },
 "nbformat": 4,
 "nbformat_minor": 2
}
