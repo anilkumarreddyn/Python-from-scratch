{
 "cells": [
  {
   "cell_type": "code",
   "execution_count": null,
   "metadata": {},
   "outputs": [],
   "source": [
    "Functions: \n",
    "    resulability \n",
    "    maintanability "
   ]
  },
  {
   "cell_type": "code",
   "execution_count": null,
   "metadata": {},
   "outputs": [],
   "source": [
    "fun def \n",
    "fun call "
   ]
  },
  {
   "cell_type": "code",
   "execution_count": 2,
   "metadata": {},
   "outputs": [
    {
     "name": "stdout",
     "output_type": "stream",
     "text": [
      "12\n"
     ]
    }
   ],
   "source": [
    "s =\"Python sample string\"\n",
    "print(s.index(\"e\"))"
   ]
  },
  {
   "cell_type": "code",
   "execution_count": 4,
   "metadata": {},
   "outputs": [
    {
     "name": "stdout",
     "output_type": "stream",
     "text": [
      "150\n",
      "1500\n",
      "15\n"
     ]
    }
   ],
   "source": [
    "def add(num1,num2,num3,num4,num5):\n",
    "    ans = num1 + num2 +num3 +num4 + num5\n",
    "    return ans\n",
    "\n",
    "result = add(10,20,30,40,50)\n",
    "print(result)\n",
    "print(add(100,200,300,400,500))\n",
    "print(add(1,2,3,4,5))"
   ]
  },
  {
   "cell_type": "code",
   "execution_count": 7,
   "metadata": {},
   "outputs": [
    {
     "name": "stdout",
     "output_type": "stream",
     "text": [
      "85\n"
     ]
    }
   ],
   "source": [
    "def sec_max(l):\n",
    "    s = set(l)\n",
    "    l1 = sorted(s)\n",
    "    return l1[-2]\n",
    "\n",
    "l = [45,10,12,12,12,85,96,96,74,45,74,78,55,41,25,78,52]\n",
    "print(sec_max(l))"
   ]
  },
  {
   "cell_type": "code",
   "execution_count": 11,
   "metadata": {},
   "outputs": [
    {
     "name": "stdout",
     "output_type": "stream",
     "text": [
      "(True, 3)\n"
     ]
    }
   ],
   "source": [
    "def linear_search(l,key):\n",
    "    for index,value in enumerate(l):\n",
    "        if value == key:\n",
    "            return True,index\n",
    "    else:\n",
    "        return False\n",
    "\n",
    "l = [10,20,30,40,50,60,70]\n",
    "key = 40\n",
    "result = linear_search(l,key)\n",
    "print(result)"
   ]
  },
  {
   "cell_type": "code",
   "execution_count": null,
   "metadata": {},
   "outputs": [],
   "source": [
    "Parameter passing techniques :\n",
    "    1. Positional args\n",
    "    2. Deafault args \n",
    "    3. Keyword args \n",
    "    4. Variable length positional\n",
    "    5. Variable length Keyword \n",
    "    6. Unpacking \n",
    "    "
   ]
  },
  {
   "cell_type": "code",
   "execution_count": 16,
   "metadata": {
    "scrolled": true
   },
   "outputs": [
    {
     "name": "stdout",
     "output_type": "stream",
     "text": [
      "10 20 30 40 50\n",
      "150\n",
      "10 20 0 0 0\n",
      "30\n",
      "0 0 0 0 0\n",
      "0\n"
     ]
    }
   ],
   "source": [
    "def add(num1=0,num2=0,num3=0,num4=0,num5=0):\n",
    "    print(num1,num2,num3,num4,num5)\n",
    "    ans = num1 + num2 +num3 +num4 + num5\n",
    "    return ans\n",
    "\n",
    "result = add(10,20,30,40,50)\n",
    "print(result)\n",
    "\n",
    "result = add(10,20)\n",
    "print(result)\n",
    "\n",
    "result = add()\n",
    "print(result)"
   ]
  },
  {
   "cell_type": "code",
   "execution_count": 20,
   "metadata": {},
   "outputs": [
    {
     "name": "stdout",
     "output_type": "stream",
     "text": [
      "10,20\n",
      "Hi\n",
      "Help on built-in function print in module builtins:\n",
      "\n",
      "print(...)\n",
      "    print(value, ..., sep=' ', end='\\n', file=sys.stdout, flush=False)\n",
      "    \n",
      "    Prints the values to a stream, or to sys.stdout by default.\n",
      "    Optional keyword arguments:\n",
      "    file:  a file-like object (stream); defaults to the current sys.stdout.\n",
      "    sep:   string inserted between values, default a space.\n",
      "    end:   string appended after the last value, default a newline.\n",
      "    flush: whether to forcibly flush the stream.\n",
      "\n"
     ]
    }
   ],
   "source": [
    "print(10,20,sep=\",\")\n",
    "print(\"Hi\")\n",
    "help(print)"
   ]
  },
  {
   "cell_type": "code",
   "execution_count": null,
   "metadata": {},
   "outputs": [],
   "source": [
    "# 1 upper\n",
    "# 1 lower\n",
    "# 1 special \n",
    "# 7 digits \n",
    "\n",
    "# gen_pass()=> 10char \n",
    "# gen_pass(5)"
   ]
  },
  {
   "cell_type": "code",
   "execution_count": 23,
   "metadata": {},
   "outputs": [
    {
     "name": "stdout",
     "output_type": "stream",
     "text": [
      "4313X$4\n"
     ]
    }
   ],
   "source": [
    "import random \n",
    "def gen_pass(num = 10):\n",
    "    print(num)\n",
    "    upper = chr(random.randint(ord('A'),ord('Z')))\n",
    "    lower = chr(random.randint(ord('a'),ord('z')))\n",
    "    char = ['!','@','#','$','&']\n",
    "    special = random.choice(char)\n",
    "    digits = random.randint(1000000,9999999)\n",
    "    s = upper+lower+special+str(digits)\n",
    "    l =  random.sample(s,num)\n",
    "    password = (\"\").join(l)\n",
    "    return password\n",
    "\n",
    "print(gen_pass(7))"
   ]
  },
  {
   "cell_type": "code",
   "execution_count": 27,
   "metadata": {},
   "outputs": [
    {
     "name": "stdout",
     "output_type": "stream",
     "text": [
      "Invalid\n",
      "Valid\n"
     ]
    }
   ],
   "source": [
    "def user_auth(username,password):\n",
    "    if username == \"abc\" and password ==\"abc@123\":\n",
    "        print(\"Valid\")\n",
    "    else:\n",
    "        print(\"Invalid\")\n",
    "\n",
    "user_auth(\"abc@123\",\"abc\")\n",
    "user_auth(password= \"abc@123\",username=\"abc\")"
   ]
  },
  {
   "cell_type": "code",
   "execution_count": 29,
   "metadata": {},
   "outputs": [
    {
     "name": "stdout",
     "output_type": "stream",
     "text": [
      "10,20\tHi\n"
     ]
    }
   ],
   "source": [
    "print(10,20,sep=\",\",end=\"\\t\")\n",
    "print(\"Hi\")"
   ]
  },
  {
   "cell_type": "code",
   "execution_count": 35,
   "metadata": {},
   "outputs": [
    {
     "name": "stdout",
     "output_type": "stream",
     "text": [
      "150\n",
      "360\n"
     ]
    }
   ],
   "source": [
    "def add(*args):\n",
    "    return sum(args)\n",
    "\n",
    "result = add(10,20,30,40,50)\n",
    "print(result)\n",
    "\n",
    "result = add(10,20,30,40,50,60,70,80)\n",
    "print(result)"
   ]
  },
  {
   "cell_type": "code",
   "execution_count": 38,
   "metadata": {},
   "outputs": [
    {
     "name": "stdout",
     "output_type": "stream",
     "text": [
      "{'name': 'ABC', 'email': 'abc@gmail.com', 'contact': '944444444', 'dob': '12-12-2019'}\n",
      "{'name': 'ABC', 'contact': '944444444', 'dob': '12-12-2019'}\n",
      "{'name': 'ABC', 'email': 'abc@gmail.com', 'dob': '12-12-2019'}\n"
     ]
    }
   ],
   "source": [
    "def user_details(**kwargs):\n",
    "    print(kwargs)\n",
    "\n",
    "user_details(name= \"ABC\",email =\"abc@gmail.com\",contact =\"944444444\",dob =\"12-12-2019\")\n",
    "user_details(name= \"ABC\",contact =\"944444444\",dob =\"12-12-2019\")\n",
    "user_details(name= \"ABC\",email =\"abc@gmail.com\",dob =\"12-12-2019\")"
   ]
  },
  {
   "cell_type": "code",
   "execution_count": 43,
   "metadata": {},
   "outputs": [
    {
     "name": "stdout",
     "output_type": "stream",
     "text": [
      "(40, 50) {'name': 'ABC', 'email': 'abc@gmail.com', 'contact': '944444444', 'dob': '12-12-2019'}\n",
      "() {'name': 'ABC', 'contact': '944444444', 'dob': '12-12-2019'}\n",
      "() {'name': 'ABC', 'email': 'abc@gmail.com', 'dob': '12-12-2019'}\n"
     ]
    }
   ],
   "source": [
    "def user_details(num1,num2=0,num3=0,*args,**kwargs):\n",
    "    print(args,kwargs)\n",
    "\n",
    "user_details(10,20,30,40,50,name= \"ABC\",email =\"abc@gmail.com\",contact =\"944444444\",dob =\"12-12-2019\")\n",
    "user_details(10,20,30,name= \"ABC\",contact =\"944444444\",dob =\"12-12-2019\")\n",
    "user_details(10,name= \"ABC\",email =\"abc@gmail.com\",dob =\"12-12-2019\")"
   ]
  },
  {
   "cell_type": "code",
   "execution_count": 47,
   "metadata": {},
   "outputs": [
    {
     "name": "stdout",
     "output_type": "stream",
     "text": [
      "30 20 10\n"
     ]
    }
   ],
   "source": [
    "def add(num1,num2,num3):\n",
    "    print(num1,num2,num3)\n",
    "# l = [10,20,30]\n",
    "# add(*l)\n",
    "\n",
    "d = {\"num3\":10,\"num2\":20,\"num1\":30}\n",
    "add(**d)"
   ]
  },
  {
   "cell_type": "code",
   "execution_count": null,
   "metadata": {},
   "outputs": [],
   "source": [
    "Parameter passing techniques:\n",
    "    1 positional => toatl no of args in func call and def same, sequential mapping  \n",
    "    2 default => set default value for args in func def  \n",
    "    3 keyword => in func call specify the args explicitly \n",
    "    4 varibale length positional => *args => tuple \n",
    "    5 variable legth keyword => **kwargs => dict \n",
    "    6 unpacking *l,**d"
   ]
  },
  {
   "cell_type": "code",
   "execution_count": 48,
   "metadata": {},
   "outputs": [
    {
     "ename": "SyntaxError",
     "evalue": "invalid syntax (<ipython-input-48-e0d24e1117d0>, line 1)",
     "output_type": "error",
     "traceback": [
      "\u001b[1;36m  File \u001b[1;32m\"<ipython-input-48-e0d24e1117d0>\"\u001b[1;36m, line \u001b[1;32m1\u001b[0m\n\u001b[1;33m    scope of avariables\u001b[0m\n\u001b[1;37m           ^\u001b[0m\n\u001b[1;31mSyntaxError\u001b[0m\u001b[1;31m:\u001b[0m invalid syntax\n"
     ]
    }
   ],
   "source": [
    "scope of avariables \n",
    "recusive function \n",
    "modules "
   ]
  },
  {
   "cell_type": "code",
   "execution_count": null,
   "metadata": {},
   "outputs": [],
   "source": []
  }
 ],
 "metadata": {
  "kernelspec": {
   "display_name": "Python 3",
   "language": "python",
   "name": "python3"
  },
  "language_info": {
   "codemirror_mode": {
    "name": "ipython",
    "version": 3
   },
   "file_extension": ".py",
   "mimetype": "text/x-python",
   "name": "python",
   "nbconvert_exporter": "python",
   "pygments_lexer": "ipython3",
   "version": "3.6.5"
  }
 },
 "nbformat": 4,
 "nbformat_minor": 2
}
