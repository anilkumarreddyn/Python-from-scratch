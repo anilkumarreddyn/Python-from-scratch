{
 "cells": [
  {
   "cell_type": "code",
   "execution_count": null,
   "metadata": {},
   "outputs": [],
   "source": [
    "Add:\n",
    "    append \"python\"\n",
    "    extend  \"python\"\n",
    "    insert  (2,\"Python\")\n",
    "Update :\n",
    "    l[index] new_value \n",
    "    \n",
    "delete :\n",
    "   remove => value [10,10,20,20,20,20,30] remove(20)\n",
    "   pop last element => index \n",
    "   del \n",
    "   clear \n",
    "   "
   ]
  },
  {
   "cell_type": "code",
   "execution_count": null,
   "metadata": {},
   "outputs": [],
   "source": [
    "str:\n",
    "    format \"print value here {}\".format(10)\n",
    "    index => error  \n",
    "    find  => -1 \n",
    "    \n",
    "    join [\"a\",'b','c' ] => \"a b c\"\n",
    "    split str => list \n",
    "    \n",
    "    strip (\"****python****\") \"python\"\n",
    "    \n",
    "    isalpha => only alpha \n",
    "    isdigit  => digits \n",
    "    isalnum  => alpha + digits\n",
    "    isspace => space \\t , \\n"
   ]
  },
  {
   "cell_type": "code",
   "execution_count": null,
   "metadata": {},
   "outputs": [],
   "source": [
    "Dict {\"name\":'abc',\"email\":\"abc@gmail.com\",\"age\":30}\n",
    "    - mutable => add update and delete\n",
    "    - unordered = > not support indexing and slicing \n",
    "    - all the keys should be unique \n",
    "    - all the keys should be immutable => int ,float, str , tuple\n",
    "    "
   ]
  },
  {
   "cell_type": "code",
   "execution_count": 3,
   "metadata": {},
   "outputs": [
    {
     "name": "stdout",
     "output_type": "stream",
     "text": [
      "{'name': 'PQR', 'email': 'abc@gmail.com', 'age': 30}\n"
     ]
    }
   ],
   "source": [
    "d = {\"name\":\"ABC\",\"email\":\"abc@gmail.com\",\"age\":30,\"name\":\"PQR\"}\n",
    "print(d)"
   ]
  },
  {
   "cell_type": "code",
   "execution_count": null,
   "metadata": {},
   "outputs": [],
   "source": [
    "l = [10,20,30,40,50]\n",
    "l =  1001"
   ]
  },
  {
   "cell_type": "code",
   "execution_count": null,
   "metadata": {},
   "outputs": [],
   "source": [
    "hash(name) = > hash_index "
   ]
  },
  {
   "cell_type": "code",
   "execution_count": null,
   "metadata": {},
   "outputs": [],
   "source": [
    "hash table \n",
    "hash_index  key ref value \n",
    "\n",
    "2           email   1100\n",
    "\n",
    "5           name    1005"
   ]
  },
  {
   "cell_type": "code",
   "execution_count": 13,
   "metadata": {},
   "outputs": [
    {
     "name": "stdout",
     "output_type": "stream",
     "text": [
      "{'name': 'ABC', 'email': 'abc@gmail.com', 'age': 30}\n"
     ]
    }
   ],
   "source": [
    "d = {\"name\":\"ABC\",\"email\":\"abc@gmail.com\",\"age\":30}\n",
    "print(d['id'])"
   ]
  },
  {
   "cell_type": "code",
   "execution_count": 18,
   "metadata": {},
   "outputs": [
    {
     "name": "stdout",
     "output_type": "stream",
     "text": [
      "-1\n"
     ]
    }
   ],
   "source": [
    "d = {\"name\":\"ABC\",\"email\":\"abc@gmail.com\",\"age\":30}\n",
    "print(d.get(\"id\",-1))"
   ]
  },
  {
   "cell_type": "code",
   "execution_count": 26,
   "metadata": {},
   "outputs": [
    {
     "name": "stdout",
     "output_type": "stream",
     "text": [
      "ABC\n",
      "{'name': 'ABC', 'email': 'abc@gmail.com', 'age': 30}\n"
     ]
    }
   ],
   "source": [
    "d = {\"name\":\"ABC\",\"email\":\"abc@gmail.com\",\"age\":30}\n",
    "print(d.setdefault(\"name\"))\n",
    "print(d)"
   ]
  },
  {
   "cell_type": "code",
   "execution_count": 25,
   "metadata": {},
   "outputs": [
    {
     "name": "stdout",
     "output_type": "stream",
     "text": [
      "{'name': 'ABC', 'email': 'abc@gmail.com', 'age': 30, 'id': None, 'dept': 'HR'}\n",
      "{'name': 'ABC', 'email': 'abc@gmail.com', 'age': 30, 'id': None, 'dept': 'Admin'}\n"
     ]
    }
   ],
   "source": [
    "d['dept'] = \"HR\"\n",
    "print(d)\n",
    "\n",
    "d['dept'] = \"Admin\"\n",
    "print(d)"
   ]
  },
  {
   "cell_type": "code",
   "execution_count": null,
   "metadata": {},
   "outputs": [],
   "source": [
    "1:1,2:4,...15:225\n",
    "'a':97,'b':98....'z':122"
   ]
  },
  {
   "cell_type": "code",
   "execution_count": 29,
   "metadata": {},
   "outputs": [
    {
     "name": "stdout",
     "output_type": "stream",
     "text": [
      "97 122\n",
      "a\n"
     ]
    }
   ],
   "source": [
    "print(ord('a'),ord('z'))\n",
    "print(chr(97))"
   ]
  },
  {
   "cell_type": "code",
   "execution_count": 30,
   "metadata": {},
   "outputs": [
    {
     "name": "stdout",
     "output_type": "stream",
     "text": [
      "{1: 1, 2: 4, 3: 9, 4: 16, 5: 25, 6: 36, 7: 49, 8: 64, 9: 81, 10: 100, 11: 121, 12: 144, 13: 169, 14: 196, 15: 225}\n"
     ]
    }
   ],
   "source": [
    "d = {}\n",
    "for key in range(1,16):\n",
    "     d.setdefault(key,key ** 2)\n",
    "print(d)"
   ]
  },
  {
   "cell_type": "code",
   "execution_count": 31,
   "metadata": {},
   "outputs": [
    {
     "name": "stdout",
     "output_type": "stream",
     "text": [
      "{1: 1, 2: 4, 3: 9, 4: 16, 5: 25, 6: 36, 7: 49, 8: 64, 9: 81, 10: 100, 11: 121, 12: 144, 13: 169, 14: 196, 15: 225}\n"
     ]
    }
   ],
   "source": [
    "d = {}\n",
    "for key in range(1,16):\n",
    "     d[key] = key ** 2 \n",
    "print(d)"
   ]
  },
  {
   "cell_type": "code",
   "execution_count": 34,
   "metadata": {},
   "outputs": [
    {
     "name": "stdout",
     "output_type": "stream",
     "text": [
      "{'a': 97, 'b': 98, 'c': 99, 'd': 100, 'e': 101, 'f': 102, 'g': 103, 'h': 104, 'i': 105, 'j': 106, 'k': 107, 'l': 108, 'm': 109, 'n': 110, 'o': 111, 'p': 112, 'q': 113, 'r': 114, 's': 115, 't': 116, 'u': 117, 'v': 118, 'w': 119, 'x': 120, 'y': 121, 'z': 122}\n"
     ]
    }
   ],
   "source": [
    "d = {}\n",
    "\n",
    "for value in range(ord('a'),ord('z')+1):\n",
    "    d[chr(value)] = value\n",
    "print(d)"
   ]
  },
  {
   "cell_type": "code",
   "execution_count": null,
   "metadata": {},
   "outputs": [],
   "source": [
    "support@zekelabs.com"
   ]
  },
  {
   "cell_type": "code",
   "execution_count": 39,
   "metadata": {},
   "outputs": [
    {
     "name": "stdout",
     "output_type": "stream",
     "text": [
      "[('a', 1), ('b', 2), ('c', 3), ('d', 4)]\n"
     ]
    }
   ],
   "source": [
    "l1 = ['a','b','c','d','e']\n",
    "l2 = [1,2,3,4]\n",
    "l3 = (zip(l1,l2))\n",
    "print(list(l3))\n",
    "\n",
    "# for value in l3:\n",
    "#     print(value)"
   ]
  },
  {
   "cell_type": "code",
   "execution_count": null,
   "metadata": {},
   "outputs": [],
   "source": [
    "d = {(1,10):0,(11,20):0,(21,30):0......(91,100):0}\n",
    "1 11 21 31 41 .... 91 range(1,92,10) \n",
    "10 20 30 .... 100 range(10,101,10)"
   ]
  },
  {
   "cell_type": "code",
   "execution_count": 47,
   "metadata": {},
   "outputs": [
    {
     "name": "stdout",
     "output_type": "stream",
     "text": [
      "{(1, 10): 0, (11, 20): 0, (21, 30): 0, (31, 40): 0, (41, 50): 0, (51, 60): 0, (61, 70): 0, (71, 80): 0, (81, 90): 0, (91, 100): 0}\n"
     ]
    }
   ],
   "source": [
    "l1 = range(1,92,10)\n",
    "l2 = range(10,101,10)\n",
    "\n",
    "d = {}\n",
    "\n",
    "for key in zip(l1,l2):\n",
    "    d.setdefault(key,0)\n",
    "print(d)"
   ]
  },
  {
   "cell_type": "code",
   "execution_count": 55,
   "metadata": {},
   "outputs": [
    {
     "name": "stdout",
     "output_type": "stream",
     "text": [
      "{(1, 10): 0, (11, 20): 3, (21, 30): 2, (31, 40): 2, (41, 50): 1, (51, 60): 0, (61, 70): 0, (71, 80): 1, (81, 90): 0, (91, 100): 1}\n"
     ]
    }
   ],
   "source": [
    "# print(d)\n",
    "l = [11,15,20,25,30,35,40,100,78]\n",
    "for num in l:\n",
    "    for key in d:\n",
    "        if num >= key[0] and num <= key[1]:\n",
    "            d[key] = d[key] + 1  \n",
    "print(d)"
   ]
  },
  {
   "cell_type": "code",
   "execution_count": 56,
   "metadata": {},
   "outputs": [
    {
     "name": "stdout",
     "output_type": "stream",
     "text": [
      "name\n",
      "email\n",
      "age\n",
      "id\n",
      "dept\n"
     ]
    }
   ],
   "source": [
    "d = {'name': 'ABC', 'email': 'abc@gmail.com', 'age': 30, 'id': None, 'dept': 'Admin'}\n",
    "\n",
    "for key in d:\n",
    "    print(key)"
   ]
  },
  {
   "cell_type": "code",
   "execution_count": null,
   "metadata": {},
   "outputs": [],
   "source": [
    "keys\n",
    "values \n",
    "items "
   ]
  },
  {
   "cell_type": "code",
   "execution_count": 59,
   "metadata": {},
   "outputs": [
    {
     "name": "stdout",
     "output_type": "stream",
     "text": [
      "dict_keys(['name', 'email', 'age', 'id', 'dept'])\n",
      "dict_values(['ABC', 'abc@gmail.com', 30, None, 'Admin'])\n",
      "dict_items([('name', 'ABC'), ('email', 'abc@gmail.com'), ('age', 30), ('id', None), ('dept', 'Admin')])\n"
     ]
    }
   ],
   "source": [
    "d = {'name': 'ABC', 'email': 'abc@gmail.com', 'age': 30, 'id': None, 'dept': 'Admin'}\n",
    "print(d.keys())\n",
    "print(d.values())\n",
    "print(d.items())"
   ]
  },
  {
   "cell_type": "code",
   "execution_count": 60,
   "metadata": {},
   "outputs": [
    {
     "name": "stdout",
     "output_type": "stream",
     "text": [
      "name ABC\n",
      "email abc@gmail.com\n",
      "age 30\n",
      "id None\n",
      "dept Admin\n"
     ]
    }
   ],
   "source": [
    "for key,value in d.items():\n",
    "    print(key,value)"
   ]
  },
  {
   "cell_type": "code",
   "execution_count": null,
   "metadata": {},
   "outputs": [],
   "source": [
    "\"Python sample string\" =>  for  => p , y , t ...... g\n",
    "[10,20,30,\"Python\"] = > for  => 10,20 ,30,\"Python\"\n",
    "(10,20,30,40,50,60) => for  = > 10,20,30,40,50\n",
    "{1:1,2:4,3:9} => for  => 1,2,3"
   ]
  },
  {
   "cell_type": "code",
   "execution_count": 61,
   "metadata": {},
   "outputs": [
    {
     "name": "stdout",
     "output_type": "stream",
     "text": [
      "phy\n"
     ]
    }
   ],
   "source": [
    "d = {\"math\":80,\"chem\":50,\"eng\":66,\"phy\":30}\n",
    "pass_marks = 40 \n",
    "for key,value in d.items():\n",
    "    if value < 40 :\n",
    "        print(key)"
   ]
  },
  {
   "cell_type": "code",
   "execution_count": 62,
   "metadata": {},
   "outputs": [
    {
     "name": "stdout",
     "output_type": "stream",
     "text": [
      "phy\n"
     ]
    }
   ],
   "source": [
    "c\n",
    "for key in d:\n",
    "    if d[key] < 40 :\n",
    "        print(key)"
   ]
  },
  {
   "cell_type": "code",
   "execution_count": null,
   "metadata": {},
   "outputs": [],
   "source": [
    "Add \n",
    "    setdefault(key,default_value)\n",
    "    d['key'] = value\n",
    "Update\n",
    "    d['key'] = updated_value"
   ]
  },
  {
   "cell_type": "code",
   "execution_count": null,
   "metadata": {},
   "outputs": [],
   "source": [
    "Delete :\n",
    "    pop\n",
    "    popitem \n",
    "    del \n",
    "    clear "
   ]
  },
  {
   "cell_type": "code",
   "execution_count": 70,
   "metadata": {},
   "outputs": [
    {
     "name": "stdout",
     "output_type": "stream",
     "text": [
      "{'math': 80, 'chem': 50, 'phy': 30} 66\n",
      "{}\n"
     ]
    },
    {
     "ename": "NameError",
     "evalue": "name 'd' is not defined",
     "output_type": "error",
     "traceback": [
      "\u001b[1;31m---------------------------------------------------------------------------\u001b[0m",
      "\u001b[1;31mNameError\u001b[0m                                 Traceback (most recent call last)",
      "\u001b[1;32m<ipython-input-70-aaaf196cb364>\u001b[0m in \u001b[0;36m<module>\u001b[1;34m()\u001b[0m\n\u001b[0;32m     10\u001b[0m \u001b[1;33m\u001b[0m\u001b[0m\n\u001b[0;32m     11\u001b[0m \u001b[1;32mdel\u001b[0m \u001b[0md\u001b[0m\u001b[1;33m\u001b[0m\u001b[0m\n\u001b[1;32m---> 12\u001b[1;33m \u001b[0mprint\u001b[0m\u001b[1;33m(\u001b[0m\u001b[0md\u001b[0m\u001b[1;33m)\u001b[0m\u001b[1;33m\u001b[0m\u001b[0m\n\u001b[0m",
      "\u001b[1;31mNameError\u001b[0m: name 'd' is not defined"
     ]
    }
   ],
   "source": [
    "d = {\"math\":80,\"chem\":50,\"eng\":66,\"phy\":30}\n",
    "# r = d.popitem()\n",
    "# print(d,r)\n",
    "\n",
    "r = d.pop('eng')\n",
    "print(d,r)\n",
    "\n",
    "d.clear()\n",
    "print(d)\n",
    "\n",
    "del d\n",
    "print(d)"
   ]
  },
  {
   "cell_type": "code",
   "execution_count": 71,
   "metadata": {},
   "outputs": [
    {
     "name": "stdout",
     "output_type": "stream",
     "text": [
      "{1: 1, 2: 4, 3: 9, 4: 16, 5: 25}\n"
     ]
    }
   ],
   "source": [
    "l1 = [1,2,3,4,5]\n",
    "l2 = [1,4,9,16,25]\n",
    "l3 = dict(zip(l1,l2))\n",
    "print(l3)"
   ]
  },
  {
   "cell_type": "code",
   "execution_count": 76,
   "metadata": {},
   "outputs": [
    {
     "name": "stdout",
     "output_type": "stream",
     "text": [
      "{10: None, 20: None, 30: None, 40: None, 50: None}\n"
     ]
    }
   ],
   "source": [
    "l = [10,20,30,40,50]\n",
    "# d = dict.fromkeys(l,0)\n",
    "# print(d)\n",
    "\n",
    "# d = {}\n",
    "# for value in l:\n",
    "#     d.setdefault(value)\n",
    "# print(d)"
   ]
  },
  {
   "cell_type": "code",
   "execution_count": 78,
   "metadata": {},
   "outputs": [
    {
     "name": "stdout",
     "output_type": "stream",
     "text": [
      "<enumerate object at 0x0000018AEDB10168>\n",
      "{0: 10, 1: 20, 2: 30, 3: 40, 4: 50}\n"
     ]
    }
   ],
   "source": [
    "l = [10,20,30,40,50]\n",
    "l2 = enumerate(l)\n",
    "print(l2)\n",
    "d = dict(l2)\n",
    "print(d)"
   ]
  },
  {
   "cell_type": "code",
   "execution_count": 81,
   "metadata": {},
   "outputs": [
    {
     "name": "stdout",
     "output_type": "stream",
     "text": [
      "{1: 1, 2: 4, 3: 16, 5: 25, 6: 36}\n"
     ]
    }
   ],
   "source": [
    "d1 = {1:1,2:4,3:9}\n",
    "d2 = {3:16,5:25,6:36}\n",
    "d1.update(d2)\n",
    "print(d1)"
   ]
  },
  {
   "cell_type": "code",
   "execution_count": 82,
   "metadata": {},
   "outputs": [
    {
     "name": "stdout",
     "output_type": "stream",
     "text": [
      "['__class__', '__contains__', '__delattr__', '__delitem__', '__dir__', '__doc__', '__eq__', '__format__', '__ge__', '__getattribute__', '__getitem__', '__gt__', '__hash__', '__init__', '__init_subclass__', '__iter__', '__le__', '__len__', '__lt__', '__ne__', '__new__', '__reduce__', '__reduce_ex__', '__repr__', '__setattr__', '__setitem__', '__sizeof__', '__str__', '__subclasshook__', 'clear', 'copy', 'fromkeys', 'get', 'items', 'keys', 'pop', 'popitem', 'setdefault', 'update', 'values']\n"
     ]
    }
   ],
   "source": [
    "print(dir(dict))"
   ]
  },
  {
   "cell_type": "code",
   "execution_count": 83,
   "metadata": {},
   "outputs": [
    {
     "name": "stdout",
     "output_type": "stream",
     "text": [
      "Help on class dict in module builtins:\n",
      "\n",
      "class dict(object)\n",
      " |  dict() -> new empty dictionary\n",
      " |  dict(mapping) -> new dictionary initialized from a mapping object's\n",
      " |      (key, value) pairs\n",
      " |  dict(iterable) -> new dictionary initialized as if via:\n",
      " |      d = {}\n",
      " |      for k, v in iterable:\n",
      " |          d[k] = v\n",
      " |  dict(**kwargs) -> new dictionary initialized with the name=value pairs\n",
      " |      in the keyword argument list.  For example:  dict(one=1, two=2)\n",
      " |  \n",
      " |  Methods defined here:\n",
      " |  \n",
      " |  __contains__(self, key, /)\n",
      " |      True if D has a key k, else False.\n",
      " |  \n",
      " |  __delitem__(self, key, /)\n",
      " |      Delete self[key].\n",
      " |  \n",
      " |  __eq__(self, value, /)\n",
      " |      Return self==value.\n",
      " |  \n",
      " |  __ge__(self, value, /)\n",
      " |      Return self>=value.\n",
      " |  \n",
      " |  __getattribute__(self, name, /)\n",
      " |      Return getattr(self, name).\n",
      " |  \n",
      " |  __getitem__(...)\n",
      " |      x.__getitem__(y) <==> x[y]\n",
      " |  \n",
      " |  __gt__(self, value, /)\n",
      " |      Return self>value.\n",
      " |  \n",
      " |  __init__(self, /, *args, **kwargs)\n",
      " |      Initialize self.  See help(type(self)) for accurate signature.\n",
      " |  \n",
      " |  __iter__(self, /)\n",
      " |      Implement iter(self).\n",
      " |  \n",
      " |  __le__(self, value, /)\n",
      " |      Return self<=value.\n",
      " |  \n",
      " |  __len__(self, /)\n",
      " |      Return len(self).\n",
      " |  \n",
      " |  __lt__(self, value, /)\n",
      " |      Return self<value.\n",
      " |  \n",
      " |  __ne__(self, value, /)\n",
      " |      Return self!=value.\n",
      " |  \n",
      " |  __new__(*args, **kwargs) from builtins.type\n",
      " |      Create and return a new object.  See help(type) for accurate signature.\n",
      " |  \n",
      " |  __repr__(self, /)\n",
      " |      Return repr(self).\n",
      " |  \n",
      " |  __setitem__(self, key, value, /)\n",
      " |      Set self[key] to value.\n",
      " |  \n",
      " |  __sizeof__(...)\n",
      " |      D.__sizeof__() -> size of D in memory, in bytes\n",
      " |  \n",
      " |  clear(...)\n",
      " |      D.clear() -> None.  Remove all items from D.\n",
      " |  \n",
      " |  copy(...)\n",
      " |      D.copy() -> a shallow copy of D\n",
      " |  \n",
      " |  fromkeys(iterable, value=None, /) from builtins.type\n",
      " |      Returns a new dict with keys from iterable and values equal to value.\n",
      " |  \n",
      " |  get(...)\n",
      " |      D.get(k[,d]) -> D[k] if k in D, else d.  d defaults to None.\n",
      " |  \n",
      " |  items(...)\n",
      " |      D.items() -> a set-like object providing a view on D's items\n",
      " |  \n",
      " |  keys(...)\n",
      " |      D.keys() -> a set-like object providing a view on D's keys\n",
      " |  \n",
      " |  pop(...)\n",
      " |      D.pop(k[,d]) -> v, remove specified key and return the corresponding value.\n",
      " |      If key is not found, d is returned if given, otherwise KeyError is raised\n",
      " |  \n",
      " |  popitem(...)\n",
      " |      D.popitem() -> (k, v), remove and return some (key, value) pair as a\n",
      " |      2-tuple; but raise KeyError if D is empty.\n",
      " |  \n",
      " |  setdefault(...)\n",
      " |      D.setdefault(k[,d]) -> D.get(k,d), also set D[k]=d if k not in D\n",
      " |  \n",
      " |  update(...)\n",
      " |      D.update([E, ]**F) -> None.  Update D from dict/iterable E and F.\n",
      " |      If E is present and has a .keys() method, then does:  for k in E: D[k] = E[k]\n",
      " |      If E is present and lacks a .keys() method, then does:  for k, v in E: D[k] = v\n",
      " |      In either case, this is followed by: for k in F:  D[k] = F[k]\n",
      " |  \n",
      " |  values(...)\n",
      " |      D.values() -> an object providing a view on D's values\n",
      " |  \n",
      " |  ----------------------------------------------------------------------\n",
      " |  Data and other attributes defined here:\n",
      " |  \n",
      " |  __hash__ = None\n",
      "\n"
     ]
    }
   ],
   "source": [
    "help(dict)"
   ]
  },
  {
   "cell_type": "code",
   "execution_count": null,
   "metadata": {},
   "outputs": [],
   "source": [
    "Add :\n",
    "    setdefault\n",
    "    d[key] = value \n",
    "    \n",
    "update :\n",
    "    d[key] = new value \n",
    "    \n",
    "delete :\n",
    "    pop => key => value\n",
    "    popitem => last key value \n",
    "    clear \n",
    "    del\n",
    "    \n",
    "    \n",
    "    get check if key exist return value else return None\n",
    "    setdefault  if key exist return value else add key into the dict \n",
    "\n",
    "for x in d:\n",
    "    x => keys \n",
    "    \n",
    "keys => list of all keys\n",
    "values => list of all value \n",
    "items => list of tuple of key,value \n",
    "\n",
    "\n",
    "l1  = \n",
    "l2 =\n",
    "dict(zip(l1,l2))\n",
    "\n",
    "\n",
    "l1 = []\n",
    "dict.fromkeys(l1)\n",
    "\n",
    "d1 = {}\n",
    "d2 ={}\n",
    "d1.update(d2)     \n",
    "\n",
    "\n"
   ]
  },
  {
   "cell_type": "code",
   "execution_count": null,
   "metadata": {},
   "outputs": [],
   "source": [
    "set \n",
    "math \n",
    "random"
   ]
  }
 ],
 "metadata": {
  "kernelspec": {
   "display_name": "Python 3",
   "language": "python",
   "name": "python3"
  },
  "language_info": {
   "codemirror_mode": {
    "name": "ipython",
    "version": 3
   },
   "file_extension": ".py",
   "mimetype": "text/x-python",
   "name": "python",
   "nbconvert_exporter": "python",
   "pygments_lexer": "ipython3",
   "version": "3.6.5"
  }
 },
 "nbformat": 4,
 "nbformat_minor": 2
}
