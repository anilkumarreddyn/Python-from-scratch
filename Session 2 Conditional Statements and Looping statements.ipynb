{
 "cells": [
  {
   "cell_type": "code",
   "execution_count": null,
   "metadata": {},
   "outputs": [],
   "source": [
    "if else \n",
    "for \n",
    "while "
   ]
  },
  {
   "cell_type": "code",
   "execution_count": null,
   "metadata": {},
   "outputs": [],
   "source": [
    "if [condition]:\n",
    "    statemnt1\n",
    "    statement2\n",
    "elif [condition]:\n",
    "    \n",
    "elif [condition]:\n",
    "\n",
    "else:\n",
    "    statemnts "
   ]
  },
  {
   "cell_type": "code",
   "execution_count": null,
   "metadata": {},
   "outputs": [],
   "source": [
    "logical operators and or not \n",
    "comparison opeartors == ,!=,<,>,<=,>=\n",
    "identity  is is not \n",
    "membership in not in "
   ]
  },
  {
   "cell_type": "code",
   "execution_count": null,
   "metadata": {},
   "outputs": [],
   "source": []
  },
  {
   "cell_type": "code",
   "execution_count": 10,
   "metadata": {},
   "outputs": [
    {
     "name": "stdout",
     "output_type": "stream",
     "text": [
      "num1 is greater and divisible by 5\n"
     ]
    }
   ],
   "source": [
    "num1 = 600\n",
    "num2 = 500 \n",
    "\n",
    "if num1 > num2:\n",
    "    if num1 % 5 == 0:\n",
    "        print(\"num1 is greater and divisible by 5\")\n",
    "    else:\n",
    "        print(\"Num1 is greater\")    \n",
    "elif num2 > num1:\n",
    "    print(\"num2 is greater\")\n",
    "else:\n",
    "    print(\"Both are equal\")"
   ]
  },
  {
   "cell_type": "code",
   "execution_count": 12,
   "metadata": {},
   "outputs": [
    {
     "name": "stdout",
     "output_type": "stream",
     "text": [
      "consonent\n"
     ]
    }
   ],
   "source": [
    "char = \"z\"\n",
    "\n",
    "if char in 'aeiou':\n",
    "    print(\"vowel\")\n",
    "else:\n",
    "    print(\"consonent\")"
   ]
  },
  {
   "cell_type": "code",
   "execution_count": 14,
   "metadata": {},
   "outputs": [
    {
     "name": "stdout",
     "output_type": "stream",
     "text": [
      "even\n"
     ]
    }
   ],
   "source": [
    "num = 24\n",
    "if num % 2 == 0:\n",
    "    print(\"even\")\n",
    "else:\n",
    "    print(\"odd\")"
   ]
  },
  {
   "cell_type": "code",
   "execution_count": 16,
   "metadata": {},
   "outputs": [
    {
     "name": "stdout",
     "output_type": "stream",
     "text": [
      "divisor\n"
     ]
    }
   ],
   "source": [
    "num1 = 48\n",
    "num2 = 3\n",
    "\n",
    "if num1 % num2 == 0:\n",
    "    print(\"divisor\")\n",
    "else:\n",
    "    print(\"not a divisor\")\n"
   ]
  },
  {
   "cell_type": "code",
   "execution_count": null,
   "metadata": {},
   "outputs": [],
   "source": [
    "if [condition]:\n",
    "    statemnts\n",
    "else:\n",
    "    statemnts"
   ]
  },
  {
   "cell_type": "code",
   "execution_count": 22,
   "metadata": {},
   "outputs": [
    {
     "name": "stdout",
     "output_type": "stream",
     "text": [
      "Python\n"
     ]
    }
   ],
   "source": [
    "if \"a\":\n",
    "    print(\"Python\")\n",
    "else:\n",
    "    print(\"Java\")"
   ]
  },
  {
   "cell_type": "code",
   "execution_count": null,
   "metadata": {},
   "outputs": [],
   "source": [
    "Loops:\n",
    "    For \n",
    "    While \n",
    "1 for :\n",
    "for [user defined variable] in [collection datatype]:\n",
    "    statemnts "
   ]
  },
  {
   "cell_type": "code",
   "execution_count": 26,
   "metadata": {},
   "outputs": [
    {
     "name": "stdout",
     "output_type": "stream",
     "text": [
      "10 even\n",
      "25 Odd\n",
      "30 even\n",
      "45 Odd\n",
      "50 even\n",
      "65 Odd\n"
     ]
    }
   ],
   "source": [
    "l = [10,25,30,45,50,65]\n",
    "for value in l:\n",
    "    if value % 2 == 0:\n",
    "        print(value,\"even\")\n",
    "    else:\n",
    "        print(value,\"Odd\")"
   ]
  },
  {
   "cell_type": "code",
   "execution_count": 31,
   "metadata": {},
   "outputs": [],
   "source": [
    "l = [10,20,30,40,50]\n",
    "sum  = 0\n",
    "for value in l:\n",
    "    sum = sum + value\n",
    "print(sum)"
   ]
  },
  {
   "cell_type": "code",
   "execution_count": null,
   "metadata": {},
   "outputs": [],
   "source": [
    "ctrl / "
   ]
  },
  {
   "cell_type": "code",
   "execution_count": null,
   "metadata": {},
   "outputs": [],
   "source": [
    "sum = 0 value = 10  sum = 0 + 10 = 10 \n",
    "sum = 10 value 20 = sum = 10 + 20 = 30 \n",
    "sum = 30 value 30 sum  = 30 + 30 = 60 \n",
    "sum = 60 value 40  sum = 60 + 40 = 100\n",
    "sum = 100 value = 50 sum = 100 + 50 = 150 "
   ]
  },
  {
   "cell_type": "code",
   "execution_count": null,
   "metadata": {},
   "outputs": [],
   "source": [
    "set \n",
    "tuple \n",
    "dict \n",
    "list \n",
    "str "
   ]
  },
  {
   "cell_type": "code",
   "execution_count": 35,
   "metadata": {},
   "outputs": [
    {
     "name": "stdout",
     "output_type": "stream",
     "text": [
      "even no count is : 4\n",
      "odd no count is :  3\n"
     ]
    }
   ],
   "source": [
    "l = [10,15,20,25,30,35,40]\n",
    "even_count = 0\n",
    "odd_count = 0\n",
    "\n",
    "for value in l:\n",
    "    if value % 2 == 0:\n",
    "        even_count = even_count + 1 \n",
    "    else:\n",
    "        odd_count += 1 \n",
    "        \n",
    "print(\"even no count is :\",even_count)\n",
    "print(\"odd no count is : \",odd_count)\n"
   ]
  },
  {
   "cell_type": "code",
   "execution_count": null,
   "metadata": {},
   "outputs": [],
   "source": [
    "#print(\"Hi\")"
   ]
  },
  {
   "cell_type": "code",
   "execution_count": 36,
   "metadata": {},
   "outputs": [
    {
     "name": "stdout",
     "output_type": "stream",
     "text": [
      "85\n"
     ]
    }
   ],
   "source": [
    "l = [45,10,48,78,41,52,85,15,2]\n",
    "max = 0\n",
    "# max  = 0 value = 45  max > value  max = 45 \n",
    "# max  = 45 value 10\n",
    "# max  45 value 48     max  = 48 \n",
    "\n",
    "for value in l:\n",
    "    if value > max :\n",
    "        max = value\n",
    "print(max)"
   ]
  },
  {
   "cell_type": "code",
   "execution_count": 37,
   "metadata": {},
   "outputs": [
    {
     "name": "stdout",
     "output_type": "stream",
     "text": [
      "85 78\n"
     ]
    }
   ],
   "source": [
    "l = [45,10,48,78,41,52,85,15,2]\n",
    "max = 0\n",
    "sec_max = 0 \n",
    "for value in l:\n",
    "    if value > max:\n",
    "        sec_max = max\n",
    "        max = value\n",
    "    elif value < max and value > sec_max:\n",
    "        sec_max =  value\n",
    "    \n",
    "print(max,sec_max)        \n",
    "    "
   ]
  },
  {
   "cell_type": "code",
   "execution_count": null,
   "metadata": {},
   "outputs": [],
   "source": [
    "max = 100 \n",
    "sec_max  = 90 \n",
    "\n",
    "value 110 \n",
    "    max  = 110\n",
    "    sec_max = 100 \n",
    "    \n",
    "    \n",
    "max = 100 \n",
    "sec_max  = 90 \n",
    "value = 95 \n",
    "\n",
    "    max  = 100 \n",
    "    sec_max = 95 \n",
    "    \n",
    "    \n",
    "max = 100\n",
    "sec_max  = 90 \n",
    "\n",
    "value  = 80 "
   ]
  },
  {
   "cell_type": "code",
   "execution_count": null,
   "metadata": {},
   "outputs": [],
   "source": [
    "l = [10,20,30,40,50,60]"
   ]
  },
  {
   "cell_type": "code",
   "execution_count": null,
   "metadata": {},
   "outputs": [],
   "source": [
    "range(10) 0 1 2 3 .... 9 \n",
    "range(10,50) 10 11 12 ..... 49 \n",
    "range(10,50,5) 10 15 20 25 .... 45"
   ]
  },
  {
   "cell_type": "code",
   "execution_count": 39,
   "metadata": {},
   "outputs": [
    {
     "name": "stdout",
     "output_type": "stream",
     "text": [
      "45\n"
     ]
    }
   ],
   "source": [
    "sum = 0\n",
    "for value in range(10):\n",
    "    sum = sum + value \n",
    "print(sum)"
   ]
  },
  {
   "cell_type": "code",
   "execution_count": 44,
   "metadata": {},
   "outputs": [
    {
     "name": "stdout",
     "output_type": "stream",
     "text": [
      "perfect no\n"
     ]
    }
   ],
   "source": [
    "num = 28\n",
    "sum = 0\n",
    "for value in range(1,num):\n",
    "    if num % value == 0:\n",
    "        sum = sum + value\n",
    "\n",
    "if sum == num:\n",
    "    print(\"perfect no\")\n",
    "else:\n",
    "    print(\"Not a perfect no\")"
   ]
  },
  {
   "cell_type": "code",
   "execution_count": null,
   "metadata": {},
   "outputs": [],
   "source": [
    "break\n",
    "continue "
   ]
  },
  {
   "cell_type": "code",
   "execution_count": 56,
   "metadata": {},
   "outputs": [
    {
     "name": "stdout",
     "output_type": "stream",
     "text": [
      "Element present 1\n"
     ]
    }
   ],
   "source": [
    "l = [10,20,30,40,50,60,70,80]\n",
    "key = 60\n",
    "for index,value in enumerate(l):\n",
    "    if value == key:\n",
    "        print(\"Element present\",index)\n",
    "        break\n",
    "    else:\n",
    "        continue\n",
    "else:\n",
    "    print(\"Element not present\")"
   ]
  },
  {
   "cell_type": "code",
   "execution_count": 54,
   "metadata": {},
   "outputs": [
    {
     "name": "stdout",
     "output_type": "stream",
     "text": [
      "0 10\n",
      "1 20\n",
      "2 30\n",
      "3 40\n",
      "4 50\n"
     ]
    }
   ],
   "source": [
    "l = [10,20,30,40,50]\n",
    "for index,value in enumerate(l):\n",
    "    print(index,value)"
   ]
  },
  {
   "cell_type": "code",
   "execution_count": null,
   "metadata": {},
   "outputs": [],
   "source": [
    "for [variable] in [datatype]:\n",
    "    statemnts "
   ]
  },
  {
   "cell_type": "code",
   "execution_count": null,
   "metadata": {},
   "outputs": [],
   "source": [
    "for index,value in enumerate(l):\n",
    "    print(index,value)"
   ]
  },
  {
   "cell_type": "code",
   "execution_count": null,
   "metadata": {},
   "outputs": [],
   "source": [
    "range(20,30,2) 20 22 24 .... 28\n",
    "range(50) 0 .... 49 \n",
    "range(80,10,-1) 80 79..... 11"
   ]
  },
  {
   "cell_type": "code",
   "execution_count": null,
   "metadata": {},
   "outputs": [],
   "source": [
    "break \n",
    "continue "
   ]
  },
  {
   "cell_type": "code",
   "execution_count": null,
   "metadata": {},
   "outputs": [],
   "source": [
    "while [condition]:\n",
    "    statemnts "
   ]
  },
  {
   "cell_type": "code",
   "execution_count": 58,
   "metadata": {},
   "outputs": [
    {
     "name": "stdout",
     "output_type": "stream",
     "text": [
      "210\n"
     ]
    }
   ],
   "source": [
    "count = 1 \n",
    "sum = 0 \n",
    "\n",
    "while count <= 20:\n",
    "    sum = sum + count\n",
    "    count +=1 \n",
    "print(sum)"
   ]
  },
  {
   "cell_type": "code",
   "execution_count": 64,
   "metadata": {},
   "outputs": [
    {
     "name": "stdout",
     "output_type": "stream",
     "text": [
      "o\n",
      "a\n",
      "e\n",
      "i\n"
     ]
    }
   ],
   "source": [
    "s = \"python sample string\"\n",
    "# print(len(s))\n",
    "\n",
    "count = 0\n",
    "while count < len(s):\n",
    "    if s[count] in 'aeiou':\n",
    "        print(s[count])\n",
    "    count+=1"
   ]
  },
  {
   "cell_type": "code",
   "execution_count": 63,
   "metadata": {},
   "outputs": [
    {
     "name": "stdout",
     "output_type": "stream",
     "text": [
      "20\n"
     ]
    }
   ],
   "source": [
    "l = [10,20,30,40,50,60]\n",
    "print(l[1])"
   ]
  },
  {
   "cell_type": "code",
   "execution_count": null,
   "metadata": {},
   "outputs": [],
   "source": [
    "str \n",
    "list "
   ]
  },
  {
   "cell_type": "code",
   "execution_count": null,
   "metadata": {},
   "outputs": [],
   "source": [
    "/  //"
   ]
  },
  {
   "cell_type": "code",
   "execution_count": 65,
   "metadata": {},
   "outputs": [
    {
     "name": "stdout",
     "output_type": "stream",
     "text": [
      "False\n"
     ]
    }
   ],
   "source": [
    "print(3 in [3000])"
   ]
  },
  {
   "cell_type": "code",
   "execution_count": null,
   "metadata": {},
   "outputs": [],
   "source": [
    " ==  value  is memory "
   ]
  },
  {
   "cell_type": "code",
   "execution_count": null,
   "metadata": {},
   "outputs": [],
   "source": [
    "id "
   ]
  },
  {
   "cell_type": "code",
   "execution_count": 68,
   "metadata": {},
   "outputs": [],
   "source": [
    "if []:\n",
    "    print(\"abc\")\n",
    "    "
   ]
  },
  {
   "cell_type": "code",
   "execution_count": null,
   "metadata": {},
   "outputs": [],
   "source": []
  }
 ],
 "metadata": {
  "kernelspec": {
   "display_name": "Python 3",
   "language": "python",
   "name": "python3"
  },
  "language_info": {
   "codemirror_mode": {
    "name": "ipython",
    "version": 3
   },
   "file_extension": ".py",
   "mimetype": "text/x-python",
   "name": "python",
   "nbconvert_exporter": "python",
   "pygments_lexer": "ipython3",
   "version": "3.6.5"
  }
 },
 "nbformat": 4,
 "nbformat_minor": 2
}
