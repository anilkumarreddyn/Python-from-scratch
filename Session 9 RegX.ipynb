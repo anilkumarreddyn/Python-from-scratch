{
 "cells": [
  {
   "cell_type": "code",
   "execution_count": null,
   "metadata": {},
   "outputs": [],
   "source": [
    "r => start , error , read \n",
    "r+ => start , error , read + write \n",
    "\n",
    "w => start, create new file , write\n",
    "w+ => start, create new file , read + write \n",
    "\n",
    "a => end , create new file , append \n",
    "a+ => end , create new file , append + read \n",
    "\n",
    "seek(offset, position )\n",
    "\n",
    "position :\n",
    "    0 : start of the file \n",
    "    1 : current position \n",
    "    2 : end of the file \n",
    "        \n",
    "seek(15,0)\n",
    "tell()\n",
    "    "
   ]
  },
  {
   "cell_type": "code",
   "execution_count": null,
   "metadata": {},
   "outputs": [],
   "source": [
    "1 Pattern searching \n",
    "2 Pattern validation "
   ]
  },
  {
   "cell_type": "code",
   "execution_count": 1,
   "metadata": {},
   "outputs": [],
   "source": [
    "import re "
   ]
  },
  {
   "cell_type": "code",
   "execution_count": 2,
   "metadata": {},
   "outputs": [
    {
     "name": "stdout",
     "output_type": "stream",
     "text": [
      "['ab', 'ab', 'ab', 'ab', 'ab', 'ab', 'ab']\n"
     ]
    }
   ],
   "source": [
    "s = \"ababadbcdbababebdbebdababab\"\n",
    "r = re.compile(\"ab\")\n",
    "l = re.findall(r,s)\n",
    "print(l)"
   ]
  },
  {
   "cell_type": "code",
   "execution_count": null,
   "metadata": {},
   "outputs": [],
   "source": [
    "Regx metachar :\n",
    "    . => match with any char , alpha,digit,special char => Single char \n",
    "    [a-z] => char class => single alpha a or b or c or d .....or z  [c-m]\n",
    "    [0-9] => digit class => single digit \n",
    "    + => atleast one occurance should be present no restriction on max chars\n",
    "    * => zero or more \n",
    "    ^ => Start of the string \n",
    "    $ => end of the string \n",
    "    [a-z]{5} => 5 alpha [0-9]{2} two digits [a-z]{2,5}\n",
    "    [a-z]? optional "
   ]
  },
  {
   "cell_type": "code",
   "execution_count": 3,
   "metadata": {},
   "outputs": [
    {
     "name": "stdout",
     "output_type": "stream",
     "text": [
      "['a', 'b', 'c', 'd', '1', '2', '3', '4', '@', '#', '$']\n"
     ]
    }
   ],
   "source": [
    "s = \"abcd1234@#$\"\n",
    "r = re.compile(\".\")\n",
    "l = re.findall(r,s)\n",
    "print(l)"
   ]
  },
  {
   "cell_type": "code",
   "execution_count": 5,
   "metadata": {},
   "outputs": [
    {
     "name": "stdout",
     "output_type": "stream",
     "text": [
      "['a', 'b', 'c', 'd']\n"
     ]
    }
   ],
   "source": [
    "s = \"AZabcd1234@#$\"\n",
    "r = re.compile(\"[A-Za-z]\")\n",
    "l = re.findall(r,s)\n",
    "print(l)"
   ]
  },
  {
   "cell_type": "code",
   "execution_count": 10,
   "metadata": {},
   "outputs": [
    {
     "name": "stdout",
     "output_type": "stream",
     "text": [
      "['a1']\n"
     ]
    }
   ],
   "source": [
    "s = \"a1234@#$\"\n",
    "r = re.compile(\"[a-z]+[0-9]\")\n",
    "l = re.findall(r,s)\n",
    "print(l)"
   ]
  },
  {
   "cell_type": "code",
   "execution_count": 27,
   "metadata": {},
   "outputs": [
    {
     "name": "stdout",
     "output_type": "stream",
     "text": [
      "[]\n"
     ]
    }
   ],
   "source": [
    "s = \"a12345\"\n",
    "r = re.compile(\"^[a-z]{2,4}[0-9]{5}\")\n",
    "l = re.findall(r,s)\n",
    "print(l)"
   ]
  },
  {
   "cell_type": "code",
   "execution_count": 33,
   "metadata": {},
   "outputs": [
    {
     "name": "stdout",
     "output_type": "stream",
     "text": [
      "invalid string\n"
     ]
    }
   ],
   "source": [
    "s = \"ABCDE1234A\"\n",
    "# 5 upper case char \n",
    "# 4 digits \n",
    "# 1 upper case char\n",
    "\n",
    "r = re.compile(\"^[A-Z]{5}[0-9]{4}[A-Z]$\")\n",
    "l = re.findall(r,s)\n",
    "if l:\n",
    "    print(l)\n",
    "else:\n",
    "    print(\"invalid string\")\n"
   ]
  },
  {
   "cell_type": "code",
   "execution_count": 36,
   "metadata": {},
   "outputs": [
    {
     "name": "stdout",
     "output_type": "stream",
     "text": [
      "['9123456789']\n"
     ]
    }
   ],
   "source": [
    "s = \"9123456789\"\n",
    "# 1234567894\n",
    "r = re.compile(\"^[7-9][0-9]{9}$\")\n",
    "l = re.findall(r,s)\n",
    "print(l)"
   ]
  },
  {
   "cell_type": "code",
   "execution_count": 42,
   "metadata": {},
   "outputs": [
    {
     "name": "stdout",
     "output_type": "stream",
     "text": [
      "9123456789\n"
     ]
    }
   ],
   "source": [
    "s = \"9123456789\"\n",
    "# 1234567894\n",
    "r = re.compile(\"^[7-9][0-9]{9}$\")\n",
    "m = re.search(r,s)\n",
    "if m:\n",
    "    print(m.group())\n",
    "else:\n",
    "    print(\"invalid phone number\")"
   ]
  },
  {
   "cell_type": "code",
   "execution_count": 51,
   "metadata": {},
   "outputs": [
    {
     "name": "stdout",
     "output_type": "stream",
     "text": [
      "32\n"
     ]
    }
   ],
   "source": [
    "s = \"33-32-2019\" #dd-mm-yyyy 19-Mar-2019\n",
    "r =  re.compile(\"^([0-9]{2})-([0-9]{2})-([0-9]{4})\")\n",
    "m = re.search(r,s)\n",
    "if m:\n",
    "    print(m.group(2))\n",
    "else:\n",
    "    print(\"Invalid date\")"
   ]
  },
  {
   "cell_type": "code",
   "execution_count": 56,
   "metadata": {},
   "outputs": [
    {
     "name": "stdout",
     "output_type": "stream",
     "text": [
      "8823456789\n"
     ]
    }
   ],
   "source": [
    "s = \"8823456789\"\n",
    "# 1234567894\n",
    "r = re.compile(\"^(\\(\\+91\\))?[7-9][0-9]{9}$\")\n",
    "m = re.search(r,s)\n",
    "if m:\n",
    "    print(m.group())\n",
    "else:\n",
    "    print(\"invalid phone number\")"
   ]
  },
  {
   "cell_type": "code",
   "execution_count": 68,
   "metadata": {},
   "outputs": [
    {
     "name": "stdout",
     "output_type": "stream",
     "text": [
      "['https://www.zekelabs.com/code', 'http://www.github.com/zekelabs']\n"
     ]
    }
   ],
   "source": [
    "s = \"Link to the code file is https://www.zekelabs.com/code or http://www.github.com/zekelabs\"\n",
    "#s =\" Link to the code is <a href ='https://www.zekelabs.com/code'>https://www.zekelabs.com/code</a> or <a href ='http://www.github.com/zekelabs'>http://www.github.com/zekelabs</a>\"\n",
    "r = re.compile(\"https?://www\\.[a-z-0-9]+\\.com/[a-z-0-9]*\")\n",
    "l = re.findall(r,s)\n",
    "print(l)\n",
    "# for link in l:\n",
    "#     s = s.replace(link,\"<a href = '{}'>{}</a>\".format(link,link))\n",
    "# print(s)"
   ]
  },
  {
   "cell_type": "code",
   "execution_count": null,
   "metadata": {},
   "outputs": [],
   "source": [
    "<a href=\"www.zekelabs.com\">click here</a> "
   ]
  },
  {
   "cell_type": "code",
   "execution_count": 66,
   "metadata": {},
   "outputs": [
    {
     "name": "stdout",
     "output_type": "stream",
     "text": [
      "[('33', '32')]\n"
     ]
    }
   ],
   "source": [
    "s = \"33-32-2019\" #dd-mm-yyyy 19-Mar-2019\n",
    "r =  re.compile(\"^([0-9]{2})-([0-9]{2})-[0-9]{4}\")\n",
    "l = re.findall(r,s)\n",
    "print(l)"
   ]
  },
  {
   "cell_type": "code",
   "execution_count": 75,
   "metadata": {},
   "outputs": [
    {
     "name": "stdout",
     "output_type": "stream",
     "text": [
      "33\n"
     ]
    }
   ],
   "source": [
    "#named group \n",
    "s = \"33-32-2019\" #dd-mm-yyyy 19-Mar-2019\n",
    "r =  re.compile(\"^(?P<day>\\d{2})-(?P<month>[0-9]{2})-(?P<year>[0-9]{4})\")\n",
    "m = re.search(r,s)\n",
    "if m:\n",
    "    print(m.group(1))\n",
    "else:\n",
    "    print(\"Invalid date\")"
   ]
  },
  {
   "cell_type": "code",
   "execution_count": null,
   "metadata": {},
   "outputs": [],
   "source": [
    "[0-9] \\d\n",
    "[^0-9] \\D \n",
    "\n",
    "[a-zA-Z0-9] \\w \n",
    "[^a-zA-Z0-9] \\W \n",
    "\n",
    "\\s => space \n",
    "\\S "
   ]
  },
  {
   "cell_type": "code",
   "execution_count": 77,
   "metadata": {},
   "outputs": [
    {
     "name": "stdout",
     "output_type": "stream",
     "text": [
      "['python']\n"
     ]
    }
   ],
   "source": [
    "s = \"python\"\n",
    "r = re.compile(\"PYTHON\",re.I)\n",
    "print(re.findall(r,s))\n"
   ]
  },
  {
   "cell_type": "code",
   "execution_count": null,
   "metadata": {},
   "outputs": [],
   "source": [
    "1. Date validation \n",
    "2. email is valid or not \n",
    "3. python 3.7 new feature extraction \n",
    "4. If ip address is valid or not 0.0.0.0 to 255.255.255.255 "
   ]
  },
  {
   "cell_type": "code",
   "execution_count": null,
   "metadata": {},
   "outputs": [],
   "source": [
    "List Comptehension \n",
    "Map \n",
    "Filter and lambda \n",
    "generators"
   ]
  }
 ],
 "metadata": {
  "kernelspec": {
   "display_name": "Python 3",
   "language": "python",
   "name": "python3"
  },
  "language_info": {
   "codemirror_mode": {
    "name": "ipython",
    "version": 3
   },
   "file_extension": ".py",
   "mimetype": "text/x-python",
   "name": "python",
   "nbconvert_exporter": "python",
   "pygments_lexer": "ipython3",
   "version": "3.6.5"
  }
 },
 "nbformat": 4,
 "nbformat_minor": 2
}
