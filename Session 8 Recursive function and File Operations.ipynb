{
 "cells": [
  {
   "cell_type": "code",
   "execution_count": null,
   "metadata": {},
   "outputs": [],
   "source": [
    "1 Positional total no of args  \n",
    "2 Default fun def args = 0 \n",
    "3 Keyword fun call arg name \n",
    "4 Var positional = *args => tuple\n",
    "5 Var keyword  => **kwargs => dict \n",
    "6 unpacking => *l ,**d"
   ]
  },
  {
   "cell_type": "code",
   "execution_count": 1,
   "metadata": {},
   "outputs": [
    {
     "name": "stdout",
     "output_type": "stream",
     "text": [
      "num1 inside func 100\n"
     ]
    },
    {
     "ename": "NameError",
     "evalue": "name 'num1' is not defined",
     "output_type": "error",
     "traceback": [
      "\u001b[1;31m---------------------------------------------------------------------------\u001b[0m",
      "\u001b[1;31mNameError\u001b[0m                                 Traceback (most recent call last)",
      "\u001b[1;32m<ipython-input-1-a11de35d4e88>\u001b[0m in \u001b[0;36m<module>\u001b[1;34m()\u001b[0m\n\u001b[0;32m      3\u001b[0m     \u001b[0mprint\u001b[0m\u001b[1;33m(\u001b[0m\u001b[1;34m\"num1 inside func\"\u001b[0m\u001b[1;33m,\u001b[0m\u001b[0mnum1\u001b[0m\u001b[1;33m)\u001b[0m\u001b[1;33m\u001b[0m\u001b[0m\n\u001b[0;32m      4\u001b[0m \u001b[0mprintVal\u001b[0m\u001b[1;33m(\u001b[0m\u001b[1;33m)\u001b[0m\u001b[1;33m\u001b[0m\u001b[0m\n\u001b[1;32m----> 5\u001b[1;33m \u001b[0mprint\u001b[0m\u001b[1;33m(\u001b[0m\u001b[1;34m\"num1 outside of func\"\u001b[0m\u001b[1;33m,\u001b[0m\u001b[0mnum1\u001b[0m\u001b[1;33m)\u001b[0m\u001b[1;33m\u001b[0m\u001b[0m\n\u001b[0m",
      "\u001b[1;31mNameError\u001b[0m: name 'num1' is not defined"
     ]
    }
   ],
   "source": [
    "def printVal():\n",
    "    num1 = 100\n",
    "    print(\"num1 inside func\",num1)\n",
    "printVal()\n",
    "print(\"num1 outside of func\",num1)"
   ]
  },
  {
   "cell_type": "code",
   "execution_count": 4,
   "metadata": {},
   "outputs": [
    {
     "name": "stdout",
     "output_type": "stream",
     "text": [
      "num1 inside func 500\n",
      "num1 outside of func 500\n"
     ]
    }
   ],
   "source": [
    "def printVal():\n",
    "    global num1 \n",
    "    num1 = 500 \n",
    "    print(\"num1 inside func\",num1)\n",
    "\n",
    "num1 = 200\n",
    "printVal()\n",
    "print(\"num1 outside of func\",num1)"
   ]
  },
  {
   "cell_type": "code",
   "execution_count": null,
   "metadata": {},
   "outputs": [],
   "source": [
    "Recursive Function :  fun calling itself is called a recursive func "
   ]
  },
  {
   "cell_type": "code",
   "execution_count": null,
   "metadata": {},
   "outputs": [],
   "source": [
    "fact(5) 5 * 4!\n",
    "        5 * 4 * 3!\n",
    "        5 * 4 3 * 2 !\n",
    "        5 * 4 * 3 * 2 * 1!\n",
    "        5 * 4 * 3 * 2 * 1 "
   ]
  },
  {
   "cell_type": "code",
   "execution_count": 5,
   "metadata": {},
   "outputs": [
    {
     "name": "stdout",
     "output_type": "stream",
     "text": [
      "120\n"
     ]
    }
   ],
   "source": [
    "def fact(num):\n",
    "    if num == 1 :\n",
    "        return 1\n",
    "    else:\n",
    "        return num * fact(num - 1)\n",
    "\n",
    "r = fact(5)\n",
    "print(r)"
   ]
  },
  {
   "cell_type": "code",
   "execution_count": null,
   "metadata": {},
   "outputs": [],
   "source": [
    "fact(5) = return 5 * fact(4) = 5 * 24 = 120\n",
    "            return 4 * fact(3) = 4 * 6 = 24 \n",
    "                return 3 * fact(2) = 3 * 2 = 6 \n",
    "                 return 2 * fact(1) = 2 *1 = 2 \n",
    "                     return 1"
   ]
  },
  {
   "cell_type": "code",
   "execution_count": 14,
   "metadata": {},
   "outputs": [
    {
     "name": "stdout",
     "output_type": "stream",
     "text": [
      "True\n"
     ]
    }
   ],
   "source": [
    "def binary_search(l,key):\n",
    "    if len(l) > 0:\n",
    "        mid = len(l) // 2\n",
    "        if key == l[mid]:\n",
    "            return True\n",
    "        elif key < l[mid]:\n",
    "            return binary_search(l[0:mid],key)    \n",
    "        else:\n",
    "            return binary_search(l[mid+1:],key)\n",
    "    else:\n",
    "        return False\n",
    "    \n",
    "    \n",
    "l = [10,20,30,40,50,60,70,80]\n",
    "key = 10 \n",
    "r = binary_search(l,key)\n",
    "print(r)"
   ]
  },
  {
   "cell_type": "code",
   "execution_count": null,
   "metadata": {},
   "outputs": [],
   "source": [
    "bs(l,key) : \n",
    "    return True\n",
    "        return  True \n",
    "            return True"
   ]
  },
  {
   "cell_type": "code",
   "execution_count": null,
   "metadata": {},
   "outputs": [],
   "source": [
    "mid = len(l) / 2  mid = 50 \n",
    "    if key == mid 60 == 50 \n",
    "            retur True\n",
    "    if key < mid \n",
    "    \n",
    "    if key > mid :\n",
    "        key = 60 \n",
    "        mid = 50 \n",
    "        l = [60,70,80] key = 60 \n",
    "        \n",
    "        mid = 3 / 2 = 1  mid = 70 key = 60 \n",
    "        \n",
    "        if key == mid : No \n",
    "            \n",
    "        if key < mid \n",
    "            mid  = 70\n",
    "            key = 60 \n",
    "            \n",
    "            l =[60] key = 60 \n",
    "            mid  1 / 2 = 0 \n",
    "            if key == mid return True \n",
    "            \n",
    "        if key > mid\n",
    "        \n",
    "    "
   ]
  },
  {
   "cell_type": "code",
   "execution_count": null,
   "metadata": {},
   "outputs": [],
   "source": [
    "module => any .py \n",
    "same dir => import mod_name \n",
    "different dir __init__.py \n",
    "        from pkg import mod_name "
   ]
  },
  {
   "cell_type": "code",
   "execution_count": null,
   "metadata": {},
   "outputs": [],
   "source": [
    ".txt \n",
    "xml json .html csv "
   ]
  },
  {
   "cell_type": "code",
   "execution_count": null,
   "metadata": {},
   "outputs": [],
   "source": [
    "Modes of fopening a file :\n",
    "    1 r => read \n",
    "    2 r+\n",
    "    3 w => write \n",
    "    4 w+ \n",
    "    5 a => apppend\n",
    "    6 a+ "
   ]
  },
  {
   "cell_type": "code",
   "execution_count": 19,
   "metadata": {},
   "outputs": [
    {
     "name": "stdout",
     "output_type": "stream",
     "text": [
      "Sample text line1\n",
      "Sample text line2\n",
      "Sample text line3\n",
      "Sample text line4\n",
      "Sample text line5\n",
      "\n"
     ]
    }
   ],
   "source": [
    "fp = open(\"sample_text.txt\",\"r\")\n",
    "content = fp.read()\n",
    "print(content)\n",
    "\n",
    "content = fp.read()\n",
    "print(content)\n",
    "fp.close()"
   ]
  },
  {
   "cell_type": "code",
   "execution_count": 21,
   "metadata": {},
   "outputs": [
    {
     "name": "stdout",
     "output_type": "stream",
     "text": [
      "Sample text line1\n",
      "Sa\n",
      "mple text line2\n",
      "Sample text line3\n",
      "Sample text line4\n",
      "Sample text line5\n"
     ]
    }
   ],
   "source": [
    "fp = open(\"sample_text.txt\",\"r\")\n",
    "content = fp.read(20)\n",
    "print(content)\n",
    "fp.close()"
   ]
  },
  {
   "cell_type": "code",
   "execution_count": 23,
   "metadata": {},
   "outputs": [
    {
     "name": "stdout",
     "output_type": "stream",
     "text": [
      "Sample text line1\n",
      "\n",
      "Sample text line2\n",
      "\n"
     ]
    }
   ],
   "source": [
    "fp = open(\"sample_text.txt\",\"r\")\n",
    "content = fp.readline()\n",
    "print(content)\n",
    "content = fp.readline()\n",
    "print(content)\n",
    "fp.close()"
   ]
  },
  {
   "cell_type": "code",
   "execution_count": 26,
   "metadata": {
    "scrolled": true
   },
   "outputs": [
    {
     "name": "stdout",
     "output_type": "stream",
     "text": [
      "['Sample text line1\\n', 'Sample text line2\\n', 'Sample text line3\\n', 'Sample text line4\\n', 'Sample text line5']\n"
     ]
    }
   ],
   "source": [
    "fp = open(\"sample_text.txt\",\"r\")\n",
    "content = fp.readlines()\n",
    "print(content)\n",
    "\n",
    "fp.close()"
   ]
  },
  {
   "cell_type": "code",
   "execution_count": 32,
   "metadata": {},
   "outputs": [
    {
     "name": "stdout",
     "output_type": "stream",
     "text": [
      "0\n",
      "27\n",
      "0\n",
      "what will be output in file\n"
     ]
    }
   ],
   "source": [
    "fp = open(\"sample_text1.txt\",\"w+\")\n",
    "print(fp.tell())\n",
    "fp.write(\"what will be output in file\")\n",
    "print(fp.tell())\n",
    "fp.seek(0,0)\n",
    "print(fp.tell())\n",
    "content = fp.read()\n",
    "print(content)\n",
    "fp.close()"
   ]
  },
  {
   "cell_type": "code",
   "execution_count": null,
   "metadata": {},
   "outputs": [],
   "source": [
    "tell() => current fp position \n",
    "seek(offset,position) => to move file pointer\n",
    "\n",
    "position :\n",
    "    0 => start of the file \n",
    "    1 => current position \n",
    "    2 => end of the file \n",
    "offset => no of char wrt position \n",
    "seek(15,0)\n",
    "seek(0,2)\n",
    "seek(0,0)"
   ]
  },
  {
   "cell_type": "code",
   "execution_count": 38,
   "metadata": {},
   "outputs": [],
   "source": [
    "fp = open(\"sample_text1.txt\",\"r+\")\n",
    "fp.seek(5,0)\n",
    "fp.write(\"***************\")\n",
    "\n",
    "fp.close()"
   ]
  },
  {
   "cell_type": "code",
   "execution_count": 46,
   "metadata": {},
   "outputs": [
    {
     "name": "stdout",
     "output_type": "stream",
     "text": [
      "119\n",
      "Sample text line1\n",
      "Sample text line2\n",
      "Sample text line3\n",
      "Sample text line4\n",
      "Sample text line5*********************************************\n"
     ]
    }
   ],
   "source": [
    "fp = open(\"sample_text1.txt\",\"a+\")\n",
    "print(fp.tell())\n",
    "fp.write(\"***************\")\n",
    "fp.seek(0,0)\n",
    "content = fp.read()\n",
    "print(content)\n",
    "fp.close()"
   ]
  },
  {
   "cell_type": "code",
   "execution_count": null,
   "metadata": {},
   "outputs": [],
   "source": [
    "r => fp => 0 , file not exist => error , operations => read\n",
    "r+ => fp => 0 , file not exist => error , operations => read +  write \n",
    "\n",
    "w => fp => 0,file not exist => create new file , opeartion => write \n",
    "w+ => fp => 0, create new file , write + read \n",
    "\n",
    "a => fp => end of file, craete new file , opeartions write at the end \n",
    "a+ => fp => end of the file , craete new file , write + read \n",
    "\n",
    "\n",
    "tell => current fp position \n",
    "seek => move fp pistion \n",
    "\n",
    "position \n",
    "0 => start of the file \n",
    "1 => current position \n",
    "2 => end of the file \n",
    "\n",
    "offset => postion 0 \n",
    "\n"
   ]
  },
  {
   "cell_type": "code",
   "execution_count": null,
   "metadata": {},
   "outputs": [],
   "source": [
    "1. File merge \n",
    "2. \n",
    "txt :\n",
    "    \n",
    "ABC 4,4,4,4,3,3\n",
    "PQR 2,2,2,3,3,3\n",
    "RST 2,3,4,5,5,5\n",
    "\n",
    "ABC 4.2\n",
    "PQR 2.5\n",
    "RST 3.2\n"
   ]
  },
  {
   "cell_type": "code",
   "execution_count": null,
   "metadata": {},
   "outputs": [],
   "source": [
    "Regular expression \n",
    "List Comprehension,Map ,Filter and Lambda "
   ]
  }
 ],
 "metadata": {
  "kernelspec": {
   "display_name": "Python 3",
   "language": "python",
   "name": "python3"
  },
  "language_info": {
   "codemirror_mode": {
    "name": "ipython",
    "version": 3
   },
   "file_extension": ".py",
   "mimetype": "text/x-python",
   "name": "python",
   "nbconvert_exporter": "python",
   "pygments_lexer": "ipython3",
   "version": "3.6.5"
  }
 },
 "nbformat": 4,
 "nbformat_minor": 2
}
