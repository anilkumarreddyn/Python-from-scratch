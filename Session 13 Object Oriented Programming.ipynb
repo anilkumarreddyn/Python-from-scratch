{
 "cells": [
  {
   "cell_type": "code",
   "execution_count": null,
   "metadata": {},
   "outputs": [],
   "source": [
    "Resuse the code \n",
    "Real world scenarios "
   ]
  },
  {
   "cell_type": "code",
   "execution_count": null,
   "metadata": {},
   "outputs": [],
   "source": [
    "Paytm : \n",
    "    mob no \n",
    "    email address \n",
    "    kyc details \n",
    "    payment details \n",
    "    \n",
    "    recharge \n",
    "    book tickets \n",
    "    transfer money \n",
    "    \n",
    "    \n",
    "1 user \n"
   ]
  },
  {
   "cell_type": "code",
   "execution_count": null,
   "metadata": {},
   "outputs": [],
   "source": [
    "Class\n",
    "data members  => variables \n",
    "methods/functions => \n",
    "\n",
    "Objects \n"
   ]
  },
  {
   "cell_type": "code",
   "execution_count": null,
   "metadata": {},
   "outputs": [],
   "source": [
    "Emp\n",
    "    id \n",
    "    name \n",
    "    email \n",
    "    dept \n",
    "    sal \n",
    "    \n",
    "    view_details\n",
    "    update_details \n",
    "    change_dept\n",
    "    incr_sal \n",
    "\n",
    "emp1\n",
    "emp2\n",
    "emp3"
   ]
  },
  {
   "cell_type": "code",
   "execution_count": 1,
   "metadata": {},
   "outputs": [
    {
     "name": "stdout",
     "output_type": "stream",
     "text": [
      "<__main__.Emp object at 0x0000023F4217E2E8>\n"
     ]
    }
   ],
   "source": [
    "class Emp:\n",
    "    pass \n",
    "\n",
    "emp1 = Emp()\n",
    "print(emp1)"
   ]
  },
  {
   "cell_type": "code",
   "execution_count": 16,
   "metadata": {},
   "outputs": [
    {
     "name": "stdout",
     "output_type": "stream",
     "text": [
      "<__main__.Emp object at 0x000001CCA16A5E10>\n",
      "<__main__.Emp object at 0x000001CCA16A5710>\n",
      "<__main__.Emp object at 0x000001CCA15DD048>\n",
      "<__main__.Emp object at 0x000001CCA15DDCC0>\n"
     ]
    }
   ],
   "source": [
    "class Emp:\n",
    "    def __init__(self,id,name,email,sal):\n",
    "        self.id = id \n",
    "        self.name = name \n",
    "        self.emp_email = email \n",
    "        self.salary = sal \n",
    "        \n",
    "    def set_dept(self,dept_name):\n",
    "        self.dept_name = dept_name\n",
    "        \n",
    "    def incr_sal(self,per):\n",
    "        self.salary = self.salary + (self.salary * per)/100\n",
    "        return self.salary\n",
    "    \n",
    "    def get_details(self):\n",
    "        return self.id,self.name,self.emp_email,self.dept_name\n",
    "\n",
    "emp1 = Emp(101,\"ABC\",\"abc@xyz.com\",45000)\n",
    "# Emp(emp1,\"ABC\",\"abc@xyz.com\",\"45000\")\n",
    "print(emp1)\n",
    "\n",
    "emp2 = Emp(102,\"PQR\",\"pqr@xyz.com\",55000)\n",
    "print(emp2)\n",
    "\n",
    "emp3 = Emp(103,\"RST\",\"xyz@xyz.com\",65000)\n",
    "print(emp3)\n",
    "emp4 = Emp(104,\"XYZ\",\"xyz@xyz.com\",75000)\n",
    "print(emp4)"
   ]
  },
  {
   "cell_type": "code",
   "execution_count": null,
   "metadata": {},
   "outputs": [],
   "source": [
    "instance variable => evry object will have a same its own copy of a variable  \n",
    "class variable => single copy of variable will be shared by all the objects "
   ]
  },
  {
   "cell_type": "code",
   "execution_count": 2,
   "metadata": {},
   "outputs": [
    {
     "name": "stdout",
     "output_type": "stream",
     "text": [
      "101 ABC abc@xyz.com 45000\n",
      "102 PQR pqr@xyz.com 55000\n"
     ]
    }
   ],
   "source": [
    "print(emp1.id,emp1.name,emp1.emp_email,emp1.salary)\n",
    "print(emp2.id,emp2.name,emp2.emp_email,emp2.salary)"
   ]
  },
  {
   "cell_type": "code",
   "execution_count": 17,
   "metadata": {},
   "outputs": [],
   "source": [
    "emp1.set_dept(\"HR\")\n",
    "emp2.set_dept(\"HR\")\n",
    "emp3.set_dept(\"Admin\")\n",
    "emp4.set_dept(\"Admin\")\n",
    "# Emp.set_dept(emp1,\"HR\")\n",
    "# emp2.set_dept(\"Admin\")"
   ]
  },
  {
   "cell_type": "code",
   "execution_count": 18,
   "metadata": {},
   "outputs": [
    {
     "name": "stdout",
     "output_type": "stream",
     "text": [
      "(101, 'ABC', 'abc@xyz.com', 'HR')\n"
     ]
    }
   ],
   "source": [
    "print(emp1.get_details())"
   ]
  },
  {
   "cell_type": "code",
   "execution_count": 19,
   "metadata": {},
   "outputs": [],
   "source": [
    "emps =[emp1,emp2,emp3,emp4]"
   ]
  },
  {
   "cell_type": "code",
   "execution_count": 20,
   "metadata": {},
   "outputs": [
    {
     "name": "stdout",
     "output_type": "stream",
     "text": [
      "(101, 'ABC', 'abc@xyz.com', 'HR')\n",
      "(102, 'PQR', 'pqr@xyz.com', 'HR')\n"
     ]
    }
   ],
   "source": [
    "for obj in emps:\n",
    "    if obj.dept_name ==\"HR\":\n",
    "        print(obj.get_details())"
   ]
  },
  {
   "cell_type": "code",
   "execution_count": 4,
   "metadata": {},
   "outputs": [
    {
     "name": "stdout",
     "output_type": "stream",
     "text": [
      "HR\n"
     ]
    },
    {
     "ename": "AttributeError",
     "evalue": "'Emp' object has no attribute 'dept_name'",
     "output_type": "error",
     "traceback": [
      "\u001b[1;31m---------------------------------------------------------------------------\u001b[0m",
      "\u001b[1;31mAttributeError\u001b[0m                            Traceback (most recent call last)",
      "\u001b[1;32m<ipython-input-4-aaeed5323288>\u001b[0m in \u001b[0;36m<module>\u001b[1;34m()\u001b[0m\n\u001b[0;32m      1\u001b[0m \u001b[0mprint\u001b[0m\u001b[1;33m(\u001b[0m\u001b[0memp1\u001b[0m\u001b[1;33m.\u001b[0m\u001b[0mdept_name\u001b[0m\u001b[1;33m)\u001b[0m\u001b[1;33m\u001b[0m\u001b[0m\n\u001b[1;32m----> 2\u001b[1;33m \u001b[0mprint\u001b[0m\u001b[1;33m(\u001b[0m\u001b[0memp2\u001b[0m\u001b[1;33m.\u001b[0m\u001b[0mdept_name\u001b[0m\u001b[1;33m)\u001b[0m\u001b[1;33m\u001b[0m\u001b[0m\n\u001b[0m",
      "\u001b[1;31mAttributeError\u001b[0m: 'Emp' object has no attribute 'dept_name'"
     ]
    }
   ],
   "source": [
    "print(emp1.dept_name)\n",
    "print(emp2.dept_name)"
   ]
  },
  {
   "cell_type": "code",
   "execution_count": 6,
   "metadata": {},
   "outputs": [
    {
     "name": "stdout",
     "output_type": "stream",
     "text": [
      "{'id': 101, 'name': 'ABC', 'emp_email': 'abc@xyz.com', 'salary': '45000', 'dept_name': 'HR'}\n",
      "{'id': 102, 'name': 'PQR', 'emp_email': 'pqr@xyz.com', 'salary': '55000'}\n"
     ]
    }
   ],
   "source": [
    "print(emp1.__dict__)\n",
    "print(emp2.__dict__)"
   ]
  },
  {
   "cell_type": "code",
   "execution_count": null,
   "metadata": {},
   "outputs": [],
   "source": [
    "class Emp \n",
    "    private int emp_id\n",
    "    private str name\n",
    "    \n",
    "    \n",
    "    public void get_details():\n",
    "        "
   ]
  },
  {
   "cell_type": "code",
   "execution_count": 11,
   "metadata": {},
   "outputs": [
    {
     "name": "stdout",
     "output_type": "stream",
     "text": [
      "58500.0\n",
      "77000.0\n"
     ]
    }
   ],
   "source": [
    "print(emp1.incr_sal(30))\n",
    "print(emp2.incr_sal(40))"
   ]
  },
  {
   "cell_type": "code",
   "execution_count": 12,
   "metadata": {},
   "outputs": [
    {
     "name": "stdout",
     "output_type": "stream",
     "text": [
      "58500.0\n"
     ]
    }
   ],
   "source": [
    "print(emp1.salary)"
   ]
  },
  {
   "cell_type": "code",
   "execution_count": null,
   "metadata": {},
   "outputs": [],
   "source": [
    "Student :\n",
    "    roll_no\n",
    "    std \n",
    "    name \n",
    "    marks \n",
    "    per \n",
    "    result \n",
    "    \n",
    "    (101,5,\"ABC\",[70,80,50,80,80])\n",
    "    calculate the percentage \n",
    "    calculate the result 40 >  pass else Fail\n",
    "\n",
    "\n",
    "    all the students who are failed in stabdard 5th "
   ]
  },
  {
   "cell_type": "code",
   "execution_count": 23,
   "metadata": {},
   "outputs": [
    {
     "name": "stdout",
     "output_type": "stream",
     "text": [
      "(104, 'RST', [25, 30, 25, 30, 35], 29.0)\n",
      "(105, 'QWE', [25, 30, 35, 35, 35], 32.0)\n"
     ]
    }
   ],
   "source": [
    "class Student:\n",
    "    def __init__(self,roll_no,std,name,marks):\n",
    "        self.roll_no = roll_no\n",
    "        self.std = std\n",
    "        self.name = name\n",
    "        self.marks = marks\n",
    "\n",
    "    def cal_result(self):\n",
    "        self.per = sum(self.marks) / 5\n",
    "        if self.per > 40:\n",
    "            self.result = \"Pass\"\n",
    "        else:\n",
    "            self.result = \"Fail\"\n",
    "    def get_details(self):\n",
    "        return self.roll_no,self.name,self.marks,self.per\n",
    "        \n",
    "stud1 = Student(101,5,\"ABC\",[70,70,70,80,80])\n",
    "stud2 = Student(102,5,\"PQR\",[70,70,70,80,80])\n",
    "stud3 = Student(103,5,\"XYZ\",[70,70,50,50,40])\n",
    "stud4 = Student(104,5,\"RST\",[25,30,25,30,35])\n",
    "stud5 = Student(105,5,\"QWE\",[25,30,35,35,35])\n",
    "\n",
    "students = [stud1,stud2,stud3,stud4,stud5]\n",
    "for obj in students:\n",
    "    obj.cal_result()\n",
    "\n",
    "for obj in students:\n",
    "    if obj.result == \"Fail\":\n",
    "        print(obj.get_details())"
   ]
  },
  {
   "cell_type": "code",
   "execution_count": null,
   "metadata": {},
   "outputs": [],
   "source": [
    "class class_name:\n",
    "    \n",
    "obj_name = class_name()\n",
    "\n",
    "__init__(self):\n",
    "    \n",
    "instance variable : every object will have its own set variables  \n",
    "    \n",
    "    "
   ]
  },
  {
   "cell_type": "code",
   "execution_count": null,
   "metadata": {},
   "outputs": [],
   "source": [
    "class varible \n",
    "static method \n",
    "class method \n",
    "inheritance \n",
    "method overriding \n",
    "\n"
   ]
  },
  {
   "cell_type": "code",
   "execution_count": null,
   "metadata": {},
   "outputs": [],
   "source": [
    "SavingAccount :\n",
    "    craete an accoungt \n",
    "    withdrawl \n",
    "    deposite\n",
    "    cal_interest 4%\n",
    "    check balance "
   ]
  },
  {
   "cell_type": "code",
   "execution_count": null,
   "metadata": {},
   "outputs": [],
   "source": [
    "User:\n",
    "    create a new user username,email ,password ,contact no \n",
    "    login : \n",
    "    username should be unique     \n",
    "    change password \n",
    "    change_contactno "
   ]
  },
  {
   "cell_type": "code",
   "execution_count": null,
   "metadata": {},
   "outputs": [],
   "source": [
    "class \n",
    "    data members  => variable \n",
    "    \n",
    "    methods => functions\n",
    "    \n",
    "obj"
   ]
  },
  {
   "cell_type": "code",
   "execution_count": null,
   "metadata": {},
   "outputs": [],
   "source": [
    "class class_Name:\n",
    "    def __init__(self,10,20):\n",
    "        self.id \n",
    "        self.email\n",
    "        self.contact\n",
    "\n",
    "    def set_result(self):\n",
    "        self.result = \n",
    "        \n",
    "obj_name = Class_name(10,20)\n",
    "print(obj_name.id,obj_name.name)"
   ]
  },
  {
   "cell_type": "code",
   "execution_count": null,
   "metadata": {},
   "outputs": [],
   "source": [
    "instance varible :evry object will have its own copy of variable "
   ]
  },
  {
   "cell_type": "code",
   "execution_count": null,
   "metadata": {},
   "outputs": [],
   "source": [
    "Class variable => single copy of variable shared by all the objects \n",
    "Emp.count "
   ]
  },
  {
   "cell_type": "code",
   "execution_count": 18,
   "metadata": {},
   "outputs": [
    {
     "name": "stdout",
     "output_type": "stream",
     "text": [
      "101 ABC\n",
      "102 PQR\n",
      "103 RST\n",
      "104 XYZ\n"
     ]
    }
   ],
   "source": [
    "class Emp:\n",
    "    count = 0 \n",
    "    emps = []\n",
    "    def __init__(self,id,name,email,sal):\n",
    "        self.id = id \n",
    "        self.name = name \n",
    "        self.emp_email = email \n",
    "        self.salary = sal \n",
    "        Emp.count +=1\n",
    "        Emp.emps.append(self)\n",
    "        \n",
    "    def set_dept(self,dept_name):\n",
    "        self.dept_name = dept_name\n",
    "        \n",
    "    def incr_sal(self,per):\n",
    "        self.salary = self.salary + (self.salary * per)/100\n",
    "        return self.salary\n",
    "    \n",
    "    def get_details(self):\n",
    "        return self.id,self.name,self.emp_email\n",
    "\n",
    "    def __str__(self):\n",
    "        return \"{} {}\".format(self.id,self.name)\n",
    "        \n",
    "\n",
    "emp1 = Emp(101,\"ABC\",\"abc@xyz.com\",45000)\n",
    "# Emp(emp1,\"ABC\",\"abc@xyz.com\",\"45000\")\n",
    "print(emp1)\n",
    "\n",
    "emp2 = Emp(102,\"PQR\",\"pqr@xyz.com\",55000)\n",
    "print(emp2)\n",
    "\n",
    "emp3 = Emp(103,\"RST\",\"xyz@xyz.com\",65000)\n",
    "print(emp3)\n",
    "emp4 = Emp(104,\"XYZ\",\"xyz@xyz.com\",75000)\n",
    "print(emp4)"
   ]
  },
  {
   "cell_type": "code",
   "execution_count": null,
   "metadata": {},
   "outputs": [],
   "source": []
  },
  {
   "cell_type": "code",
   "execution_count": 4,
   "metadata": {},
   "outputs": [
    {
     "name": "stdout",
     "output_type": "stream",
     "text": [
      "{'id': 101, 'name': 'ABC', 'emp_email': 'abc@xyz.com', 'salary': 45000}\n"
     ]
    }
   ],
   "source": [
    "print(emp1.__dict__)"
   ]
  },
  {
   "cell_type": "code",
   "execution_count": 5,
   "metadata": {},
   "outputs": [
    {
     "name": "stdout",
     "output_type": "stream",
     "text": [
      "4\n",
      "{'__module__': '__main__', 'count': 4, '__init__': <function Emp.__init__ at 0x00000202DD104D08>, 'set_dept': <function Emp.set_dept at 0x00000202DD104F28>, 'incr_sal': <function Emp.incr_sal at 0x00000202DD13B048>, 'get_details': <function Emp.get_details at 0x00000202DD13B0D0>, '__dict__': <attribute '__dict__' of 'Emp' objects>, '__weakref__': <attribute '__weakref__' of 'Emp' objects>, '__doc__': None}\n"
     ]
    }
   ],
   "source": [
    "print(Emp.count)\n",
    "print(Emp.__dict__)"
   ]
  },
  {
   "cell_type": "code",
   "execution_count": 6,
   "metadata": {},
   "outputs": [
    {
     "name": "stdout",
     "output_type": "stream",
     "text": [
      "4\n"
     ]
    }
   ],
   "source": [
    "print(emp1.count)"
   ]
  },
  {
   "cell_type": "code",
   "execution_count": 7,
   "metadata": {},
   "outputs": [
    {
     "name": "stdout",
     "output_type": "stream",
     "text": [
      "100\n",
      "4\n",
      "4\n"
     ]
    }
   ],
   "source": [
    "emp1.count = 100\n",
    "print(emp1.count)\n",
    "print(Emp.count)\n",
    "print(emp2.count)"
   ]
  },
  {
   "cell_type": "code",
   "execution_count": 12,
   "metadata": {},
   "outputs": [
    {
     "name": "stdout",
     "output_type": "stream",
     "text": [
      "{'id': 101, 'name': 'ABC', 'emp_email': 'abc@xyz.com', 'salary': 45000, 'count': 100}\n",
      "{'id': 101, 'name': 'ABC', 'emp_email': 'abc@xyz.com', 'salary': 45000}\n",
      "200\n",
      "200\n"
     ]
    }
   ],
   "source": [
    "Emp.count = 200\n",
    "print(emp1.__dict__)\n",
    "del emp1.count\n",
    "print(emp1.__dict__)\n",
    "print(emp3.count)\n",
    "print(emp2.count)\n"
   ]
  },
  {
   "cell_type": "code",
   "execution_count": 8,
   "metadata": {},
   "outputs": [
    {
     "name": "stdout",
     "output_type": "stream",
     "text": [
      "{'id': 101, 'name': 'ABC', 'emp_email': 'abc@xyz.com', 'salary': 45000, 'count': 100}\n"
     ]
    }
   ],
   "source": [
    "print(emp1.__dict__)"
   ]
  },
  {
   "cell_type": "code",
   "execution_count": 14,
   "metadata": {},
   "outputs": [
    {
     "name": "stdout",
     "output_type": "stream",
     "text": [
      "[<__main__.Emp object at 0x00000202DD139978>, <__main__.Emp object at 0x00000202DD1393C8>, <__main__.Emp object at 0x00000202DD12DDD8>, <__main__.Emp object at 0x00000202DD12DD30>]\n"
     ]
    }
   ],
   "source": [
    "print(Emp.emps)"
   ]
  },
  {
   "cell_type": "code",
   "execution_count": 16,
   "metadata": {},
   "outputs": [
    {
     "name": "stdout",
     "output_type": "stream",
     "text": [
      "(101, 'ABC', 'abc@xyz.com')\n",
      "(102, 'PQR', 'pqr@xyz.com')\n",
      "(103, 'RST', 'xyz@xyz.com')\n",
      "(104, 'XYZ', 'xyz@xyz.com')\n"
     ]
    }
   ],
   "source": [
    "for emp in Emp.emps:\n",
    "    print(emp.get_details())"
   ]
  },
  {
   "cell_type": "code",
   "execution_count": 19,
   "metadata": {},
   "outputs": [
    {
     "name": "stdout",
     "output_type": "stream",
     "text": [
      "101 ABC\n"
     ]
    }
   ],
   "source": [
    "print(emp1)"
   ]
  },
  {
   "cell_type": "code",
   "execution_count": 20,
   "metadata": {},
   "outputs": [
    {
     "name": "stdout",
     "output_type": "stream",
     "text": [
      "[<__main__.Emp object at 0x00000202DD201B70>, <__main__.Emp object at 0x00000202DD201C50>, <__main__.Emp object at 0x00000202DD201D30>, <__main__.Emp object at 0x00000202DD201DA0>]\n"
     ]
    }
   ],
   "source": [
    "print(Emp.emps)"
   ]
  },
  {
   "cell_type": "code",
   "execution_count": 21,
   "metadata": {},
   "outputs": [
    {
     "name": "stdout",
     "output_type": "stream",
     "text": [
      "101 ABC\n",
      "102 PQR\n",
      "103 RST\n",
      "104 XYZ\n"
     ]
    }
   ],
   "source": [
    "for obj in Emp.emps:\n",
    "    print(obj)"
   ]
  },
  {
   "cell_type": "code",
   "execution_count": 14,
   "metadata": {},
   "outputs": [
    {
     "name": "stdout",
     "output_type": "stream",
     "text": [
      "0\n",
      "101 ABC\n",
      "102 PQR\n",
      "103 RST\n",
      "104 XYZ\n"
     ]
    }
   ],
   "source": [
    "class Emp:\n",
    "    __count = 0 \n",
    "    emps = []\n",
    "    \n",
    "    @classmethod\n",
    "    def incr_count(cls):\n",
    "        cls.__count += 1\n",
    "        \n",
    "    @classmethod\n",
    "    def add_emp(cls,obj):\n",
    "        cls.emps.append(obj)\n",
    "        \n",
    "    @classmethod\n",
    "    def get_count(cls):\n",
    "        return cls.__count\n",
    "    \n",
    "    @staticmethod\n",
    "    def printVal(val1,val2):\n",
    "        print(val1,val2)\n",
    "        \n",
    "    \n",
    "    def __init__(self,id,name,email,sal):\n",
    "        self.__id = id \n",
    "        self.__name = name \n",
    "        self.emp_email = email \n",
    "        self.salary = sal\n",
    "        \n",
    "        Emp.incr_count()\n",
    "        Emp.add_emp(self)\n",
    "        \n",
    "    def get_id(self):\n",
    "        return self.__id \n",
    "    \n",
    "    def get_name(self):\n",
    "        return self.__name\n",
    "    \n",
    "    def set_name(self,new_name):\n",
    "        self.__name = new_name\n",
    "    \n",
    "    def set_dept(self,dept_name):\n",
    "        self.dept_name = dept_name\n",
    "        \n",
    "    def incr_sal(self,per):\n",
    "        self.salary = self.salary + (self.salary * per)/100\n",
    "        return self.salary\n",
    "    \n",
    "    def get_details(self):\n",
    "        return self.__id,self.__name,self.emp_email\n",
    "\n",
    "    def __str__(self):\n",
    "        return \"{} {}\".format(self.__id,self.__name)\n",
    "        \n",
    "print(Emp.get_count())\n",
    "emp1 = Emp(101,\"ABC\",\"abc@xyz.com\",45000)\n",
    "# Emp(emp1,\"ABC\",\"abc@xyz.com\",\"45000\")\n",
    "print(emp1)\n",
    "\n",
    "emp2 = Emp(102,\"PQR\",\"pqr@xyz.com\",55000)\n",
    "print(emp2)\n",
    "\n",
    "emp3 = Emp(103,\"RST\",\"xyz@xyz.com\",65000)\n",
    "print(emp3)\n",
    "emp4 = Emp(104,\"XYZ\",\"xyz@xyz.com\",75000)\n",
    "print(emp4)"
   ]
  },
  {
   "cell_type": "code",
   "execution_count": 6,
   "metadata": {},
   "outputs": [
    {
     "name": "stdout",
     "output_type": "stream",
     "text": [
      "101\n"
     ]
    }
   ],
   "source": [
    "print(emp1.get_id())"
   ]
  },
  {
   "cell_type": "code",
   "execution_count": null,
   "metadata": {},
   "outputs": [],
   "source": [
    "Access specifiers "
   ]
  },
  {
   "cell_type": "code",
   "execution_count": 26,
   "metadata": {},
   "outputs": [
    {
     "name": "stdout",
     "output_type": "stream",
     "text": [
      "1001\n"
     ]
    }
   ],
   "source": [
    "emp1.id = 1001\n",
    "print(emp1.id)"
   ]
  },
  {
   "cell_type": "code",
   "execution_count": 4,
   "metadata": {},
   "outputs": [
    {
     "name": "stdout",
     "output_type": "stream",
     "text": [
      "ABC\n"
     ]
    }
   ],
   "source": [
    "print(emp1.get_name())"
   ]
  },
  {
   "cell_type": "code",
   "execution_count": 5,
   "metadata": {},
   "outputs": [
    {
     "name": "stdout",
     "output_type": "stream",
     "text": [
      "PQR\n"
     ]
    }
   ],
   "source": [
    "emp1.set_name(\"PQR\")\n",
    "print(emp1.get_name())"
   ]
  },
  {
   "cell_type": "code",
   "execution_count": null,
   "metadata": {},
   "outputs": [],
   "source": [
    "instance level \n",
    "class level "
   ]
  },
  {
   "cell_type": "code",
   "execution_count": 10,
   "metadata": {},
   "outputs": [
    {
     "name": "stdout",
     "output_type": "stream",
     "text": [
      "4\n"
     ]
    }
   ],
   "source": [
    "print(Emp.get_count())"
   ]
  },
  {
   "cell_type": "code",
   "execution_count": 12,
   "metadata": {},
   "outputs": [
    {
     "ename": "AttributeError",
     "evalue": "type object 'Emp' has no attribute '__count'",
     "output_type": "error",
     "traceback": [
      "\u001b[1;31m---------------------------------------------------------------------------\u001b[0m",
      "\u001b[1;31mAttributeError\u001b[0m                            Traceback (most recent call last)",
      "\u001b[1;32m<ipython-input-12-ba225e287fbd>\u001b[0m in \u001b[0;36m<module>\u001b[1;34m()\u001b[0m\n\u001b[1;32m----> 1\u001b[1;33m \u001b[0mprint\u001b[0m\u001b[1;33m(\u001b[0m\u001b[0mEmp\u001b[0m\u001b[1;33m.\u001b[0m\u001b[0m__count\u001b[0m\u001b[1;33m)\u001b[0m\u001b[1;33m\u001b[0m\u001b[0m\n\u001b[0m",
      "\u001b[1;31mAttributeError\u001b[0m: type object 'Emp' has no attribute '__count'"
     ]
    }
   ],
   "source": [
    "print(Emp.__count)"
   ]
  },
  {
   "cell_type": "code",
   "execution_count": 16,
   "metadata": {},
   "outputs": [
    {
     "name": "stdout",
     "output_type": "stream",
     "text": [
      "10 20\n"
     ]
    }
   ],
   "source": [
    "Emp.printVal(10,20)"
   ]
  },
  {
   "cell_type": "code",
   "execution_count": 17,
   "metadata": {},
   "outputs": [
    {
     "name": "stdout",
     "output_type": "stream",
     "text": [
      "30 40\n"
     ]
    }
   ],
   "source": [
    "emp1.printVal(30,40)"
   ]
  },
  {
   "cell_type": "code",
   "execution_count": null,
   "metadata": {},
   "outputs": [],
   "source": [
    "Create a class\n",
    "Create object \n",
    "__init__ howto initalize object to perticulat state \n",
    "instace varibales \n",
    "class variable \n",
    "class methods \n",
    "static methods \n",
    "\n",
    "access specifies  private __id\n",
    "getter and setter methods \n",
    "\n",
    "\n",
    "Inheritance \n",
    "Feature of OOPS and how python supports \n",
    "decorators \n",
    "\n",
    "\n",
    "threding \n",
    "database access \n",
    "sys os and pdb \n"
   ]
  },
  {
   "cell_type": "code",
   "execution_count": null,
   "metadata": {},
   "outputs": [],
   "source": [
    "User Auth :\n",
    "        create account \n",
    "        setting password \n",
    "        encryption the password \n",
    "        \n",
    "        Login \n",
    "        Logout \n",
    "        \n",
    "        "
   ]
  },
  {
   "cell_type": "code",
   "execution_count": null,
   "metadata": {},
   "outputs": [],
   "source": [
    "User\n",
    "    id \n",
    "    username \n",
    "    password \n",
    "    fistname\n",
    "    lastname \n",
    "    email\n",
    "    \n",
    "Profile:\n",
    "    contact \n",
    "    linkin\n",
    "    github \n",
    "    "
   ]
  },
  {
   "cell_type": "code",
   "execution_count": 16,
   "metadata": {},
   "outputs": [
    {
     "name": "stdout",
     "output_type": "stream",
     "text": [
      "('a', 'b', 'c', '9123456789', 'www.linkedin.com/abc')\n"
     ]
    }
   ],
   "source": [
    "class User:\n",
    "    def __init__(self,id,username,password,email,first_name=None,last_name=None):\n",
    "        self.id = id\n",
    "        self.username = username\n",
    "        self.password = password\n",
    "        self.email = email\n",
    "        self.first_name = first_name\n",
    "        self.last_name = last_name\n",
    "    \n",
    "    def login(self,username,password):\n",
    "        if self.username == username and self.password == password:\n",
    "            return \"Auth Successful\"\n",
    "        else:\n",
    "            return \"Invalid Credential\"\n",
    "        \n",
    "    def get_name(self):\n",
    "        return self.first_name+self.last_name\n",
    "    \n",
    "    def get_details(self):\n",
    "        return self.username,self.email,self.first_name\n",
    " \n",
    "class Demo:\n",
    "    def get_details(self):\n",
    "        return \"a\",'b',\"c\"\n",
    "    \n",
    "class Profile(Demo,User):\n",
    "    def __init__(self,id,username,password,email,first_name,last_name,contact,linkedin):\n",
    "        super().__init__(id,username,password,email,first_name,last_name)\n",
    "        self.contact = contact\n",
    "        self.linkedin = linkedin\n",
    "        \n",
    "    def get_details(self):\n",
    "        username,email,first_name = super().get_details()\n",
    "        return username,email,first_name,self.contact,self.linkedin\n",
    "        \n",
    "\n",
    "# user1 = User(1,\"abc\",\"abc@123\",\"abc@gmail.com\",\"ab\",\"c\")\n",
    "# print(user1.login(\"abcd\",\"abc@123\"))\n",
    "    \n",
    "user1 = Profile(1,\"abc\",\"abc@123\",\"abc@gmail.com\",\"ab\",\"c\",\"9123456789\",\"www.linkedin.com/abc\")\n",
    "# print(user1.__dict__)\n",
    "# print(user1.login(\"abcd\",\"abc@123\"))\n",
    "# print(user1.get_name())\n",
    "\n",
    "print(user1.get_details())"
   ]
  },
  {
   "cell_type": "code",
   "execution_count": 17,
   "metadata": {},
   "outputs": [
    {
     "name": "stdout",
     "output_type": "stream",
     "text": [
      "Help on class Profile in module __main__:\n",
      "\n",
      "class Profile(Demo, User)\n",
      " |  Method resolution order:\n",
      " |      Profile\n",
      " |      Demo\n",
      " |      User\n",
      " |      builtins.object\n",
      " |  \n",
      " |  Methods defined here:\n",
      " |  \n",
      " |  __init__(self, id, username, password, email, first_name, last_name, contact, linkedin)\n",
      " |      Initialize self.  See help(type(self)) for accurate signature.\n",
      " |  \n",
      " |  get_details(self)\n",
      " |  \n",
      " |  ----------------------------------------------------------------------\n",
      " |  Data descriptors inherited from Demo:\n",
      " |  \n",
      " |  __dict__\n",
      " |      dictionary for instance variables (if defined)\n",
      " |  \n",
      " |  __weakref__\n",
      " |      list of weak references to the object (if defined)\n",
      " |  \n",
      " |  ----------------------------------------------------------------------\n",
      " |  Methods inherited from User:\n",
      " |  \n",
      " |  get_name(self)\n",
      " |  \n",
      " |  login(self, username, password)\n",
      "\n"
     ]
    }
   ],
   "source": [
    "help(Profile)"
   ]
  },
  {
   "cell_type": "code",
   "execution_count": null,
   "metadata": {},
   "outputs": [],
   "source": [
    "Depth first left to right \n",
    "\n",
    "demo user \n",
    "profile "
   ]
  },
  {
   "cell_type": "code",
   "execution_count": null,
   "metadata": {},
   "outputs": [],
   "source": [
    "multiple inheritance  => Java => Interfaces  "
   ]
  },
  {
   "cell_type": "code",
   "execution_count": null,
   "metadata": {},
   "outputs": [],
   "source": [
    "Types of inhertance :\n",
    "    1 Single inheritance \n",
    "    2 Multiple Inheritance  => MRO => Depth first left to right\n",
    "    3 Multi level inheritance\n",
    "    4 Hybrid "
   ]
  },
  {
   "cell_type": "code",
   "execution_count": null,
   "metadata": {},
   "outputs": [],
   "source": [
    "1. User \n",
    "Profile \n",
    "\n",
    "2. User Demo \n",
    "    profile \n",
    "    \n",
    "3 User \n",
    "  Demo\n",
    "  Profile \n",
    "\n",
    "4 User Demo \n",
    "    profile \n",
    "    \n",
    "    Dashboard "
   ]
  },
  {
   "cell_type": "code",
   "execution_count": 9,
   "metadata": {
    "scrolled": true
   },
   "outputs": [
    {
     "name": "stdout",
     "output_type": "stream",
     "text": [
      "{'user': <__main__.User object at 0x0000016D23B8C7B8>, 'contact': '9123456789', 'linkedin': 'www.linkedin.com/abc'}\n",
      "abc\n"
     ]
    }
   ],
   "source": [
    "class User:\n",
    "    def __init__(self,id,username,password,email,first_name=None,last_name=None):\n",
    "        self.id = id\n",
    "        self.username = username\n",
    "        self.password = password\n",
    "        self.email = email\n",
    "        self.first_name = first_name\n",
    "        self.last_name = last_name\n",
    "    \n",
    "    def login(self,username,password):\n",
    "        if self.username == username and self.password == password:\n",
    "            return \"Auth Successful\"\n",
    "        else:\n",
    "            return \"Invalid Credential\"\n",
    "        \n",
    "class Profile(User):\n",
    "    def __init__(self,id,username,password,email,first_name,last_name,contact,linkedin):\n",
    "        \n",
    "        self.user = User(id,username,password,email,first_name,last_name)\n",
    "        self.contact = contact\n",
    "        self.linkedin = linkedin\n",
    "        \n",
    "\n",
    "# user1 = User(1,\"abc\",\"abc@123\",\"abc@gmail.com\",\"ab\",\"c\")\n",
    "# print(user1.login(\"abcd\",\"abc@123\"))\n",
    "    \n",
    "user1 = Profile(1,\"abc\",\"abc@123\",\"abc@gmail.com\",\"ab\",\"c\",\"9123456789\",\"www.linkedin.com/abc\")\n",
    "print(user1.__dict__)\n",
    "print(user1.user.username)"
   ]
  },
  {
   "cell_type": "code",
   "execution_count": 20,
   "metadata": {},
   "outputs": [
    {
     "name": "stdout",
     "output_type": "stream",
     "text": [
      "<class 'str'>\n",
      "2\n"
     ]
    }
   ],
   "source": [
    "s = str(\"Python\")\n",
    "print(type(s))\n",
    "print(s.find(\"t\"))\n",
    "\n"
   ]
  },
  {
   "cell_type": "code",
   "execution_count": null,
   "metadata": {},
   "outputs": [],
   "source": [
    "Everything in python is object "
   ]
  },
  {
   "cell_type": "code",
   "execution_count": null,
   "metadata": {},
   "outputs": [],
   "source": [
    "Encapsulation => C++,JAVA,Python  => Classes  => JS => Functions  \n",
    "Abstaction and data hiding private public protected \n",
    "Polymorphism => method overriding  and method overloading  \n",
    "Inheritance  => sigle,multiple.multilevel.hybrid \n",
    "\n",
    "\n",
    "strongly types \n",
    "\n",
    "weakly types "
   ]
  },
  {
   "cell_type": "code",
   "execution_count": 21,
   "metadata": {},
   "outputs": [
    {
     "name": "stdout",
     "output_type": "stream",
     "text": [
      "1\n"
     ]
    }
   ],
   "source": [
    "s = \"Python\"\n",
    "print(s.index(\"y\"))"
   ]
  },
  {
   "cell_type": "code",
   "execution_count": null,
   "metadata": {},
   "outputs": [],
   "source": [
    "2 methods having same name but different parameters \n",
    "    1. In datatypes \n",
    "    2. No of parameters "
   ]
  },
  {
   "cell_type": "code",
   "execution_count": null,
   "metadata": {},
   "outputs": [],
   "source": [
    "void add(int val1,int val2,str val3):\n",
    "    \n",
    "void add(str val1,str val2)"
   ]
  },
  {
   "cell_type": "code",
   "execution_count": null,
   "metadata": {},
   "outputs": [],
   "source": [
    "def add(*args):\n",
    "    \n",
    "add(10,20)\n",
    "add(\"Python\",\"Java\")"
   ]
  },
  {
   "cell_type": "code",
   "execution_count": 27,
   "metadata": {},
   "outputs": [
    {
     "name": "stdout",
     "output_type": "stream",
     "text": [
      "('abc', 'abc@gmail.com', 'ab', '9123456789', 'www.linkedin.com/abc')\n",
      "{'id': 1, '_username': 'abc', '_User__password': 'abc@123', '_email': 'abc@gmail.com', '_first_name': 'ab', 'last_name': 'c', 'contact': '9123456789', 'linkedin': 'www.linkedin.com/abc'}\n"
     ]
    }
   ],
   "source": [
    "class User:\n",
    "    def __init__(self,id,username,password,email,first_name=None,last_name=None):\n",
    "        self.id = id\n",
    "        self._username = username\n",
    "        self.__password = password\n",
    "        self._email = email\n",
    "        self._first_name = first_name\n",
    "        self.last_name = last_name\n",
    "    \n",
    "    def login(self,username,password):\n",
    "        if self._username == username and self._password == password:\n",
    "            return \"Auth Successful\"\n",
    "        else:\n",
    "            return \"Invalid Credential\"\n",
    "        \n",
    "    def get_name(self):\n",
    "        return self._first_name+self.last_name\n",
    "    \n",
    "    def get_details(self):\n",
    "        return self._username,self._email,self._first_name\n",
    " \n",
    "class Profile(User):\n",
    "    def __init__(self,id,username,password,email,first_name,last_name,contact,linkedin):\n",
    "        super().__init__(id,username,password,email,first_name,last_name)\n",
    "        self.contact = contact\n",
    "        self.linkedin = linkedin\n",
    "        \n",
    "    def get_details(self):\n",
    "        \n",
    "        return self._username,self._email,self._first_name,self.contact,self.linkedin\n",
    "        \n",
    "\n",
    "# user1 = User(1,\"abc\",\"abc@123\",\"abc@gmail.com\",\"ab\",\"c\")\n",
    "# print(user1.login(\"abcd\",\"abc@123\"))\n",
    "    \n",
    "user1 = Profile(1,\"abc\",\"abc@123\",\"abc@gmail.com\",\"ab\",\"c\",\"9123456789\",\"www.linkedin.com/abc\")\n",
    "# print(user1.__dict__)\n",
    "# print(user1.login(\"abcd\",\"abc@123\"))\n",
    "# print(user1.get_name())\n",
    "\n",
    "print(user1.get_details())\n",
    "print(user1.__dict__)"
   ]
  },
  {
   "cell_type": "code",
   "execution_count": null,
   "metadata": {},
   "outputs": [],
   "source": [
    "protected "
   ]
  },
  {
   "cell_type": "code",
   "execution_count": null,
   "metadata": {},
   "outputs": [],
   "source": [
    "public \n",
    "private  __ \n",
    "protected => by convention _"
   ]
  },
  {
   "cell_type": "code",
   "execution_count": 31,
   "metadata": {},
   "outputs": [
    {
     "name": "stdout",
     "output_type": "stream",
     "text": [
      "Enter the number10\n",
      "<class 'int'>\n"
     ]
    }
   ],
   "source": [
    "num1 = int(input(\"Enter the number\"))\n",
    "print(type(num1))"
   ]
  },
  {
   "cell_type": "code",
   "execution_count": null,
   "metadata": {},
   "outputs": [],
   "source": [
    "decorators \n",
    "\n",
    "threding \n",
    "db access \n",
    "sys os pdb "
   ]
  }
 ],
 "metadata": {
  "kernelspec": {
   "display_name": "Python 3",
   "language": "python",
   "name": "python3"
  },
  "language_info": {
   "codemirror_mode": {
    "name": "ipython",
    "version": 3
   },
   "file_extension": ".py",
   "mimetype": "text/x-python",
   "name": "python",
   "nbconvert_exporter": "python",
   "pygments_lexer": "ipython3",
   "version": "3.6.5"
  }
 },
 "nbformat": 4,
 "nbformat_minor": 2
}
