{
 "cells": [
  {
   "cell_type": "code",
   "execution_count": null,
   "metadata": {},
   "outputs": [],
   "source": [
    "Resuse the code \n",
    "Real world scenarios "
   ]
  },
  {
   "cell_type": "code",
   "execution_count": null,
   "metadata": {},
   "outputs": [],
   "source": [
    "Paytm : \n",
    "    mob no \n",
    "    email address \n",
    "    kyc details \n",
    "    payment details \n",
    "    \n",
    "    recharge \n",
    "    book tickets \n",
    "    transfer money \n",
    "    \n",
    "    \n",
    "1 user \n"
   ]
  },
  {
   "cell_type": "code",
   "execution_count": null,
   "metadata": {},
   "outputs": [],
   "source": [
    "Class\n",
    "data members  => variables \n",
    "methods/functions => \n",
    "\n",
    "Objects \n"
   ]
  },
  {
   "cell_type": "code",
   "execution_count": null,
   "metadata": {},
   "outputs": [],
   "source": [
    "Emp\n",
    "    id \n",
    "    name \n",
    "    email \n",
    "    dept \n",
    "    sal \n",
    "    \n",
    "    view_details\n",
    "    update_details \n",
    "    change_dept\n",
    "    incr_sal \n",
    "\n",
    "emp1\n",
    "emp2\n",
    "emp3"
   ]
  },
  {
   "cell_type": "code",
   "execution_count": 1,
   "metadata": {},
   "outputs": [
    {
     "name": "stdout",
     "output_type": "stream",
     "text": [
      "<__main__.Emp object at 0x0000023F4217E2E8>\n"
     ]
    }
   ],
   "source": [
    "class Emp:\n",
    "    pass \n",
    "\n",
    "emp1 = Emp()\n",
    "print(emp1)"
   ]
  },
  {
   "cell_type": "code",
   "execution_count": 16,
   "metadata": {},
   "outputs": [
    {
     "name": "stdout",
     "output_type": "stream",
     "text": [
      "<__main__.Emp object at 0x000001CCA16A5E10>\n",
      "<__main__.Emp object at 0x000001CCA16A5710>\n",
      "<__main__.Emp object at 0x000001CCA15DD048>\n",
      "<__main__.Emp object at 0x000001CCA15DDCC0>\n"
     ]
    }
   ],
   "source": [
    "class Emp:\n",
    "    def __init__(self,id,name,email,sal):\n",
    "        self.id = id \n",
    "        self.name = name \n",
    "        self.emp_email = email \n",
    "        self.salary = sal \n",
    "        \n",
    "    def set_dept(self,dept_name):\n",
    "        self.dept_name = dept_name\n",
    "        \n",
    "    def incr_sal(self,per):\n",
    "        self.salary = self.salary + (self.salary * per)/100\n",
    "        return self.salary\n",
    "    \n",
    "    def get_details(self):\n",
    "        return self.id,self.name,self.emp_email,self.dept_name\n",
    "\n",
    "emp1 = Emp(101,\"ABC\",\"abc@xyz.com\",45000)\n",
    "# Emp(emp1,\"ABC\",\"abc@xyz.com\",\"45000\")\n",
    "print(emp1)\n",
    "\n",
    "emp2 = Emp(102,\"PQR\",\"pqr@xyz.com\",55000)\n",
    "print(emp2)\n",
    "\n",
    "emp3 = Emp(103,\"RST\",\"xyz@xyz.com\",65000)\n",
    "print(emp3)\n",
    "emp4 = Emp(104,\"XYZ\",\"xyz@xyz.com\",75000)\n",
    "print(emp4)"
   ]
  },
  {
   "cell_type": "code",
   "execution_count": null,
   "metadata": {},
   "outputs": [],
   "source": [
    "instance variable => evry object will have a same its own copy of a variable  \n",
    "class variable => single copy of variable will be shared by all the objects "
   ]
  },
  {
   "cell_type": "code",
   "execution_count": 2,
   "metadata": {},
   "outputs": [
    {
     "name": "stdout",
     "output_type": "stream",
     "text": [
      "101 ABC abc@xyz.com 45000\n",
      "102 PQR pqr@xyz.com 55000\n"
     ]
    }
   ],
   "source": [
    "print(emp1.id,emp1.name,emp1.emp_email,emp1.salary)\n",
    "print(emp2.id,emp2.name,emp2.emp_email,emp2.salary)"
   ]
  },
  {
   "cell_type": "code",
   "execution_count": 17,
   "metadata": {},
   "outputs": [],
   "source": [
    "emp1.set_dept(\"HR\")\n",
    "emp2.set_dept(\"HR\")\n",
    "emp3.set_dept(\"Admin\")\n",
    "emp4.set_dept(\"Admin\")\n",
    "# Emp.set_dept(emp1,\"HR\")\n",
    "# emp2.set_dept(\"Admin\")"
   ]
  },
  {
   "cell_type": "code",
   "execution_count": 18,
   "metadata": {},
   "outputs": [
    {
     "name": "stdout",
     "output_type": "stream",
     "text": [
      "(101, 'ABC', 'abc@xyz.com', 'HR')\n"
     ]
    }
   ],
   "source": [
    "print(emp1.get_details())"
   ]
  },
  {
   "cell_type": "code",
   "execution_count": 19,
   "metadata": {},
   "outputs": [],
   "source": [
    "emps =[emp1,emp2,emp3,emp4]"
   ]
  },
  {
   "cell_type": "code",
   "execution_count": 20,
   "metadata": {},
   "outputs": [
    {
     "name": "stdout",
     "output_type": "stream",
     "text": [
      "(101, 'ABC', 'abc@xyz.com', 'HR')\n",
      "(102, 'PQR', 'pqr@xyz.com', 'HR')\n"
     ]
    }
   ],
   "source": [
    "for obj in emps:\n",
    "    if obj.dept_name ==\"HR\":\n",
    "        print(obj.get_details())"
   ]
  },
  {
   "cell_type": "code",
   "execution_count": 4,
   "metadata": {},
   "outputs": [
    {
     "name": "stdout",
     "output_type": "stream",
     "text": [
      "HR\n"
     ]
    },
    {
     "ename": "AttributeError",
     "evalue": "'Emp' object has no attribute 'dept_name'",
     "output_type": "error",
     "traceback": [
      "\u001b[1;31m---------------------------------------------------------------------------\u001b[0m",
      "\u001b[1;31mAttributeError\u001b[0m                            Traceback (most recent call last)",
      "\u001b[1;32m<ipython-input-4-aaeed5323288>\u001b[0m in \u001b[0;36m<module>\u001b[1;34m()\u001b[0m\n\u001b[0;32m      1\u001b[0m \u001b[0mprint\u001b[0m\u001b[1;33m(\u001b[0m\u001b[0memp1\u001b[0m\u001b[1;33m.\u001b[0m\u001b[0mdept_name\u001b[0m\u001b[1;33m)\u001b[0m\u001b[1;33m\u001b[0m\u001b[0m\n\u001b[1;32m----> 2\u001b[1;33m \u001b[0mprint\u001b[0m\u001b[1;33m(\u001b[0m\u001b[0memp2\u001b[0m\u001b[1;33m.\u001b[0m\u001b[0mdept_name\u001b[0m\u001b[1;33m)\u001b[0m\u001b[1;33m\u001b[0m\u001b[0m\n\u001b[0m",
      "\u001b[1;31mAttributeError\u001b[0m: 'Emp' object has no attribute 'dept_name'"
     ]
    }
   ],
   "source": [
    "print(emp1.dept_name)\n",
    "print(emp2.dept_name)"
   ]
  },
  {
   "cell_type": "code",
   "execution_count": 6,
   "metadata": {},
   "outputs": [
    {
     "name": "stdout",
     "output_type": "stream",
     "text": [
      "{'id': 101, 'name': 'ABC', 'emp_email': 'abc@xyz.com', 'salary': '45000', 'dept_name': 'HR'}\n",
      "{'id': 102, 'name': 'PQR', 'emp_email': 'pqr@xyz.com', 'salary': '55000'}\n"
     ]
    }
   ],
   "source": [
    "print(emp1.__dict__)\n",
    "print(emp2.__dict__)"
   ]
  },
  {
   "cell_type": "code",
   "execution_count": null,
   "metadata": {},
   "outputs": [],
   "source": [
    "class Emp \n",
    "    private int emp_id\n",
    "    private str name\n",
    "    \n",
    "    \n",
    "    public void get_details():\n",
    "        "
   ]
  },
  {
   "cell_type": "code",
   "execution_count": 11,
   "metadata": {},
   "outputs": [
    {
     "name": "stdout",
     "output_type": "stream",
     "text": [
      "58500.0\n",
      "77000.0\n"
     ]
    }
   ],
   "source": [
    "print(emp1.incr_sal(30))\n",
    "print(emp2.incr_sal(40))"
   ]
  },
  {
   "cell_type": "code",
   "execution_count": 12,
   "metadata": {},
   "outputs": [
    {
     "name": "stdout",
     "output_type": "stream",
     "text": [
      "58500.0\n"
     ]
    }
   ],
   "source": [
    "print(emp1.salary)"
   ]
  },
  {
   "cell_type": "code",
   "execution_count": null,
   "metadata": {},
   "outputs": [],
   "source": [
    "Student :\n",
    "    roll_no\n",
    "    std \n",
    "    name \n",
    "    marks \n",
    "    per \n",
    "    result \n",
    "    \n",
    "    (101,5,\"ABC\",[70,80,50,80,80])\n",
    "    calculate the percentage \n",
    "    calculate the result 40 >  pass else Fail\n",
    "\n",
    "\n",
    "    all the students who are failed in stabdard 5th "
   ]
  },
  {
   "cell_type": "code",
   "execution_count": 23,
   "metadata": {},
   "outputs": [
    {
     "name": "stdout",
     "output_type": "stream",
     "text": [
      "(104, 'RST', [25, 30, 25, 30, 35], 29.0)\n",
      "(105, 'QWE', [25, 30, 35, 35, 35], 32.0)\n"
     ]
    }
   ],
   "source": [
    "class Student:\n",
    "    def __init__(self,roll_no,std,name,marks):\n",
    "        self.roll_no = roll_no\n",
    "        self.std = std\n",
    "        self.name = name\n",
    "        self.marks = marks\n",
    "\n",
    "    def cal_result(self):\n",
    "        self.per = sum(self.marks) / 5\n",
    "        if self.per > 40:\n",
    "            self.result = \"Pass\"\n",
    "        else:\n",
    "            self.result = \"Fail\"\n",
    "    def get_details(self):\n",
    "        return self.roll_no,self.name,self.marks,self.per\n",
    "        \n",
    "stud1 = Student(101,5,\"ABC\",[70,70,70,80,80])\n",
    "stud2 = Student(102,5,\"PQR\",[70,70,70,80,80])\n",
    "stud3 = Student(103,5,\"XYZ\",[70,70,50,50,40])\n",
    "stud4 = Student(104,5,\"RST\",[25,30,25,30,35])\n",
    "stud5 = Student(105,5,\"QWE\",[25,30,35,35,35])\n",
    "\n",
    "students = [stud1,stud2,stud3,stud4,stud5]\n",
    "for obj in students:\n",
    "    obj.cal_result()\n",
    "\n",
    "for obj in students:\n",
    "    if obj.result == \"Fail\":\n",
    "        print(obj.get_details())"
   ]
  },
  {
   "cell_type": "code",
   "execution_count": null,
   "metadata": {},
   "outputs": [],
   "source": [
    "class class_name:\n",
    "    \n",
    "obj_name = class_name()\n",
    "\n",
    "__init__(self):\n",
    "    \n",
    "instance variable : every object will have its own set variables  \n",
    "    \n",
    "    "
   ]
  },
  {
   "cell_type": "code",
   "execution_count": null,
   "metadata": {},
   "outputs": [],
   "source": [
    "class varible \n",
    "static method \n",
    "class method \n",
    "inheritance \n",
    "method overriding \n",
    "\n"
   ]
  },
  {
   "cell_type": "code",
   "execution_count": null,
   "metadata": {},
   "outputs": [],
   "source": [
    "SavingAccount :\n",
    "    craete an accoungt \n",
    "    withdrawl \n",
    "    deposite\n",
    "    cal_interest 4%\n",
    "    check balance "
   ]
  },
  {
   "cell_type": "code",
   "execution_count": null,
   "metadata": {},
   "outputs": [],
   "source": [
    "User:\n",
    "    create a new user username,email ,password ,contact no \n",
    "    login : \n",
    "    username should be unique     \n",
    "    change password \n",
    "    change_contactno "
   ]
  },
  {
   "cell_type": "code",
   "execution_count": null,
   "metadata": {},
   "outputs": [],
   "source": []
  }
 ],
 "metadata": {
  "kernelspec": {
   "display_name": "Python 3",
   "language": "python",
   "name": "python3"
  },
  "language_info": {
   "codemirror_mode": {
    "name": "ipython",
    "version": 3
   },
   "file_extension": ".py",
   "mimetype": "text/x-python",
   "name": "python",
   "nbconvert_exporter": "python",
   "pygments_lexer": "ipython3",
   "version": "3.6.5"
  }
 },
 "nbformat": 4,
 "nbformat_minor": 2
}
