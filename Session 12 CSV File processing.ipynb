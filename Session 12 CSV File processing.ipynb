{
 "cells": [
  {
   "cell_type": "code",
   "execution_count": null,
   "metadata": {},
   "outputs": [],
   "source": [
    "ETL => Extract Transform Load "
   ]
  },
  {
   "cell_type": "code",
   "execution_count": 1,
   "metadata": {},
   "outputs": [],
   "source": [
    "import csv "
   ]
  },
  {
   "cell_type": "code",
   "execution_count": null,
   "metadata": {},
   "outputs": [],
   "source": [
    "reader => List  \n",
    "DictReader => Dict 1row keys {\"Name\":\"ABC\"}\n",
    "writer => List \n",
    "DictWriter => Dict "
   ]
  },
  {
   "cell_type": "code",
   "execution_count": null,
   "metadata": {},
   "outputs": [],
   "source": [
    "r\n",
    "r+\n",
    "\n",
    "w\n",
    "w+\n",
    "\n",
    "a\n",
    "a+"
   ]
  },
  {
   "cell_type": "code",
   "execution_count": null,
   "metadata": {},
   "outputs": [],
   "source": [
    "fp = open(\"test1.csv\",\"r\")\n",
    "content =  fp.read()\n",
    "fp.close()"
   ]
  },
  {
   "cell_type": "code",
   "execution_count": 7,
   "metadata": {},
   "outputs": [
    {
     "name": "stdout",
     "output_type": "stream",
     "text": [
      "['Name', 'Email', 'Contact']\n",
      "['ABC', 'abc@gmail.com', '9123456789']\n",
      "['PQR', 'pqr@gmail.com', '9123456789']\n",
      "['XYZ', 'xyz@gmail.com', '9123456789']\n",
      "['RST', 'rst@gmail.com', '9123456789']\n"
     ]
    }
   ],
   "source": [
    "with open(\"test1.csv\",\"r\") as fp:\n",
    "    reader = csv.reader(fp)\n",
    "    print(next(reader))\n",
    "\n",
    "    \n",
    "    for row in reader:\n",
    "        print(row)\n",
    "    fp.close()"
   ]
  },
  {
   "cell_type": "code",
   "execution_count": 9,
   "metadata": {},
   "outputs": [
    {
     "name": "stdout",
     "output_type": "stream",
     "text": [
      "abc@gmail.com\n"
     ]
    }
   ],
   "source": [
    "with open(\"test1.csv\",\"r\") as fp:\n",
    "    reader = csv.DictReader(fp)\n",
    "    d = next(reader)\n",
    "    print(d['Email'])\n",
    "#     for row in reader:\n",
    "#         print(row)\n",
    "    fp.close()"
   ]
  },
  {
   "cell_type": "code",
   "execution_count": 14,
   "metadata": {},
   "outputs": [
    {
     "ename": "PermissionError",
     "evalue": "[Errno 13] Permission denied: 'test1.csv'",
     "output_type": "error",
     "traceback": [
      "\u001b[1;31m---------------------------------------------------------------------------\u001b[0m",
      "\u001b[1;31mPermissionError\u001b[0m                           Traceback (most recent call last)",
      "\u001b[1;32m<ipython-input-14-a8db52072c80>\u001b[0m in \u001b[0;36m<module>\u001b[1;34m()\u001b[0m\n\u001b[1;32m----> 1\u001b[1;33m \u001b[1;32mwith\u001b[0m \u001b[0mopen\u001b[0m\u001b[1;33m(\u001b[0m\u001b[1;34m\"test1.csv\"\u001b[0m\u001b[1;33m,\u001b[0m\u001b[1;34m\"a\"\u001b[0m\u001b[1;33m)\u001b[0m \u001b[1;32mas\u001b[0m \u001b[0mfp\u001b[0m\u001b[1;33m:\u001b[0m\u001b[1;33m\u001b[0m\u001b[0m\n\u001b[0m\u001b[0;32m      2\u001b[0m     \u001b[0mwriter\u001b[0m \u001b[1;33m=\u001b[0m \u001b[0mcsv\u001b[0m\u001b[1;33m.\u001b[0m\u001b[0mwriter\u001b[0m\u001b[1;33m(\u001b[0m\u001b[0mfp\u001b[0m\u001b[1;33m)\u001b[0m\u001b[1;33m\u001b[0m\u001b[0m\n\u001b[0;32m      3\u001b[0m     \u001b[0mwriter\u001b[0m\u001b[1;33m.\u001b[0m\u001b[0mwriterow\u001b[0m\u001b[1;33m(\u001b[0m\u001b[1;33m[\u001b[0m\u001b[1;34m\"POI\"\u001b[0m\u001b[1;33m,\u001b[0m\u001b[1;34m\"poi@gmail.com\"\u001b[0m\u001b[1;33m,\u001b[0m\u001b[1;34m\"8888888888\"\u001b[0m\u001b[1;33m]\u001b[0m\u001b[1;33m)\u001b[0m\u001b[1;33m\u001b[0m\u001b[0m\n\u001b[0;32m      4\u001b[0m     \u001b[0mfp\u001b[0m\u001b[1;33m.\u001b[0m\u001b[0mclose\u001b[0m\u001b[1;33m(\u001b[0m\u001b[1;33m)\u001b[0m\u001b[1;33m\u001b[0m\u001b[0m\n",
      "\u001b[1;31mPermissionError\u001b[0m: [Errno 13] Permission denied: 'test1.csv'"
     ]
    }
   ],
   "source": [
    "with open(\"test1.csv\",\"a\") as fp:\n",
    "    writer = csv.writer(fp)\n",
    "    writer.writerow([\"POI\",\"poi@gmail.com\",\"8888888888\"])\n",
    "    fp.close()"
   ]
  },
  {
   "cell_type": "code",
   "execution_count": 15,
   "metadata": {},
   "outputs": [],
   "source": [
    "with open(\"test1.csv\",\"a\") as fp:\n",
    "    writer = csv.writer(fp)\n",
    "    writer.writerows([[\"PWE\",\"pwe@gmail.com\",\"8888888888\"],[\"PRE\",\"pre@gmail.com\",\"8888888888\"]])\n",
    "    fp.close()"
   ]
  },
  {
   "cell_type": "code",
   "execution_count": 17,
   "metadata": {},
   "outputs": [],
   "source": [
    "with open(\"test1.csv\",\"a\") as fp:\n",
    "    writer = csv.DictWriter(fp,fieldnames=['Name',\"Email\",\"Contact\"])\n",
    "    writer.writerow({\"Name\":\"RTY\",\"Contact\":\"7777777777\"})\n",
    "    fp.close()\n",
    "    "
   ]
  },
  {
   "cell_type": "code",
   "execution_count": 18,
   "metadata": {},
   "outputs": [],
   "source": [
    "with open(\"test1.csv\",\"a\") as fp:\n",
    "    writer = csv.DictWriter(fp,fieldnames=['Name',\"Email\",\"Contact\"])\n",
    "    writer.writerows([{\"Name\":\"IOT\",\"Contact\":\"7777777777\"},{\"Name\":\"IOY\",\"Contact\":\"7777777777\"}])\n",
    "    fp.close()"
   ]
  },
  {
   "cell_type": "code",
   "execution_count": null,
   "metadata": {},
   "outputs": [],
   "source": [
    "csv:\n",
    "    reader => iterator => next(reader) => List \n",
    "    DictReader => Dict \n",
    "    \n",
    "    Writer  => writerow,writerows => List\n",
    "    DictWriter =>writerow,writerows => Dict "
   ]
  },
  {
   "cell_type": "code",
   "execution_count": null,
   "metadata": {},
   "outputs": [],
   "source": [
    "OOP "
   ]
  }
 ],
 "metadata": {
  "kernelspec": {
   "display_name": "Python 3",
   "language": "python",
   "name": "python3"
  },
  "language_info": {
   "codemirror_mode": {
    "name": "ipython",
    "version": 3
   },
   "file_extension": ".py",
   "mimetype": "text/x-python",
   "name": "python",
   "nbconvert_exporter": "python",
   "pygments_lexer": "ipython3",
   "version": "3.6.5"
  }
 },
 "nbformat": 4,
 "nbformat_minor": 2
}
