{
 "cells": [
  {
   "cell_type": "code",
   "execution_count": null,
   "metadata": {},
   "outputs": [],
   "source": [
    "Decorators :\n",
    "    "
   ]
  },
  {
   "cell_type": "code",
   "execution_count": null,
   "metadata": {},
   "outputs": [],
   "source": [
    "function \n",
    "\n",
    "fun def \n",
    "fun call \n",
    "\n",
    "generators yield  \n",
    "\n",
    "threading \n",
    "\n",
    "decorators \n"
   ]
  },
  {
   "cell_type": "code",
   "execution_count": null,
   "metadata": {},
   "outputs": [],
   "source": [
    "def prinVal(val1,val2):\n",
    "    \n",
    "    \n",
    "printVal(10,20)\n"
   ]
  },
  {
   "cell_type": "code",
   "execution_count": null,
   "metadata": {},
   "outputs": [],
   "source": [
    "Decorator :  a func which takes func as and arg and returns a new function \n",
    "    \n",
    "    \n",
    "    add   deco    new_func"
   ]
  },
  {
   "cell_type": "code",
   "execution_count": 6,
   "metadata": {},
   "outputs": [
    {
     "name": "stdout",
     "output_type": "stream",
     "text": [
      "30\n",
      "PythonJava\n",
      "[10, 20, 30, 40, 50, 100, 200, 300]\n",
      "10Python\n"
     ]
    }
   ],
   "source": [
    "def add_deco(func):    \n",
    "    def new_func(val1,val2):\n",
    "        if type(val1) == type(val2):\n",
    "            return func(val1,val2)\n",
    "        else:\n",
    "            return func(str(val1),str(val2))\n",
    "    \n",
    "    return new_func \n",
    "\n",
    "@add_deco\n",
    "def add(val1,val2):\n",
    "    return val1 + val2\n",
    "\n",
    "print(add(10,20))\n",
    "print(add(\"Python\",\"Java\"))\n",
    "print(add([10,20,30,40,50],[100,200,300]))\n",
    "print(add(10,\"Python\"))"
   ]
  },
  {
   "cell_type": "code",
   "execution_count": null,
   "metadata": {},
   "outputs": [],
   "source": [
    "add(10,20) => @add_deco \n",
    "           => def add_deco(add)\n",
    "                        \n",
    "                    def new_func(10,20):\n",
    "                        \n",
    "                            add(10,20)"
   ]
  },
  {
   "cell_type": "code",
   "execution_count": 11,
   "metadata": {},
   "outputs": [
    {
     "name": "stdout",
     "output_type": "stream",
     "text": [
      "Unauthorised User\n",
      "Unauthorised User\n"
     ]
    }
   ],
   "source": [
    "def auth(func):\n",
    "    \n",
    "    def new_func(val1):\n",
    "        global username\n",
    "        global password\n",
    "        \n",
    "        if username ==\"admin\" and password == \"admin@123\":\n",
    "            return func(val1)\n",
    "        else:\n",
    "            return \"Unauthorised User\"\n",
    "    \n",
    "    return new_func\n",
    "\n",
    "\n",
    "@auth\n",
    "def edit_name(new_name):\n",
    "    global name\n",
    "    name = new_name\n",
    "    return new_name\n",
    "\n",
    "@auth    \n",
    "def edit_email(new_email):\n",
    "    global email\n",
    "    email = new_email\n",
    "    return email\n",
    "    \n",
    "name = 'ABC'\n",
    "email = 'abc@gmail.com'\n",
    "username = \"admin\"\n",
    "password = \"admin@12\"\n",
    "\n",
    "print(edit_name(\"PQR\"))\n",
    "print(edit_email(\"PQR@gmail.com\"))\n",
    "\n",
    "\n",
    "# usrname,password = > admin,admin@123 \n",
    "    \n",
    "    "
   ]
  },
  {
   "cell_type": "code",
   "execution_count": null,
   "metadata": {},
   "outputs": [],
   "source": [
    "Sys => python interpreter realted func \n",
    "os => os related func "
   ]
  },
  {
   "cell_type": "code",
   "execution_count": 12,
   "metadata": {},
   "outputs": [],
   "source": [
    "import sys"
   ]
  },
  {
   "cell_type": "code",
   "execution_count": 15,
   "metadata": {},
   "outputs": [
    {
     "name": "stdout",
     "output_type": "stream",
     "text": [
      "3.6.5 |Anaconda, Inc.| (default, Mar 29 2018, 13:32:41) [MSC v.1900 64 bit (AMD64)]\n",
      "C:\\ProgramData\\Anaconda3\\python.exe\n",
      "win32\n"
     ]
    }
   ],
   "source": [
    "print(sys.version)\n",
    "print(sys.executable)\n",
    "print(sys.platform)"
   ]
  },
  {
   "cell_type": "code",
   "execution_count": 16,
   "metadata": {},
   "outputs": [
    {
     "name": "stdout",
     "output_type": "stream",
     "text": [
      "Hi\n"
     ]
    }
   ],
   "source": [
    "print(\"Hi\")"
   ]
  },
  {
   "cell_type": "code",
   "execution_count": 17,
   "metadata": {},
   "outputs": [],
   "source": [
    "fp = open(\"test_sys.txt\",\"w\")\n",
    "sys.stdout = fp \n",
    "print(\"Hi\")"
   ]
  },
  {
   "cell_type": "code",
   "execution_count": 18,
   "metadata": {},
   "outputs": [],
   "source": [
    "print(\"Python\")"
   ]
  },
  {
   "cell_type": "code",
   "execution_count": null,
   "metadata": {},
   "outputs": [
    {
     "name": "stderr",
     "output_type": "stream",
     "text": [
      "Exception in callback BaseAsyncIOLoop._handle_events(472, 1)\n",
      "handle: <Handle BaseAsyncIOLoop._handle_events(472, 1)>\n",
      "Traceback (most recent call last):\n",
      "  File \"C:\\ProgramData\\Anaconda3\\lib\\asyncio\\events.py\", line 145, in _run\n",
      "    self._callback(*self._args)\n",
      "  File \"C:\\ProgramData\\Anaconda3\\lib\\site-packages\\tornado\\platform\\asyncio.py\", line 117, in _handle_events\n",
      "    handler_func(fileobj, events)\n",
      "  File \"C:\\ProgramData\\Anaconda3\\lib\\site-packages\\tornado\\stack_context.py\", line 276, in null_wrapper\n",
      "    return fn(*args, **kwargs)\n",
      "  File \"C:\\ProgramData\\Anaconda3\\lib\\site-packages\\zmq\\eventloop\\zmqstream.py\", line 450, in _handle_events\n",
      "    self._handle_recv()\n",
      "  File \"C:\\ProgramData\\Anaconda3\\lib\\site-packages\\zmq\\eventloop\\zmqstream.py\", line 480, in _handle_recv\n",
      "    self._run_callback(callback, msg)\n",
      "  File \"C:\\ProgramData\\Anaconda3\\lib\\site-packages\\zmq\\eventloop\\zmqstream.py\", line 432, in _run_callback\n",
      "    callback(*args, **kwargs)\n",
      "  File \"C:\\ProgramData\\Anaconda3\\lib\\site-packages\\tornado\\stack_context.py\", line 276, in null_wrapper\n",
      "    return fn(*args, **kwargs)\n",
      "  File \"C:\\ProgramData\\Anaconda3\\lib\\site-packages\\ipykernel\\kernelbase.py\", line 283, in dispatcher\n",
      "    return self.dispatch_shell(stream, msg)\n",
      "  File \"C:\\ProgramData\\Anaconda3\\lib\\site-packages\\ipykernel\\kernelbase.py\", line 239, in dispatch_shell\n",
      "    sys.stdout.flush()\n",
      "ValueError: I/O operation on closed file.\n"
     ]
    }
   ],
   "source": [
    "fp.close()"
   ]
  },
  {
   "cell_type": "code",
   "execution_count": 5,
   "metadata": {},
   "outputs": [],
   "source": [
    "import sys\n",
    "fp = open(\"sys_err.txt\",\"w\")\n",
    "sys.stderr = fp \n"
   ]
  },
  {
   "cell_type": "code",
   "execution_count": 6,
   "metadata": {},
   "outputs": [
    {
     "ename": "ZeroDivisionError",
     "evalue": "division by zero",
     "output_type": "error",
     "traceback": [
      "\u001b[1;31m---------------------------------------------------------------------------\u001b[0m",
      "\u001b[1;31mZeroDivisionError\u001b[0m                         Traceback (most recent call last)",
      "\u001b[1;32m<ipython-input-6-fe01563e1bc6>\u001b[0m in \u001b[0;36m<module>\u001b[1;34m()\u001b[0m\n\u001b[1;32m----> 1\u001b[1;33m \u001b[0mprint\u001b[0m\u001b[1;33m(\u001b[0m\u001b[1;36m10\u001b[0m\u001b[1;33m/\u001b[0m\u001b[1;36m0\u001b[0m\u001b[1;33m)\u001b[0m\u001b[1;33m\u001b[0m\u001b[0m\n\u001b[0m",
      "\u001b[1;31mZeroDivisionError\u001b[0m: division by zero"
     ]
    }
   ],
   "source": [
    "print(10/0)"
   ]
  }
 ],
 "metadata": {
  "kernelspec": {
   "display_name": "Python 3",
   "language": "python",
   "name": "python3"
  },
  "language_info": {
   "codemirror_mode": {
    "name": "ipython",
    "version": 3
   },
   "file_extension": ".py",
   "mimetype": "text/x-python",
   "name": "python",
   "nbconvert_exporter": "python",
   "pygments_lexer": "ipython3",
   "version": "3.6.5"
  }
 },
 "nbformat": 4,
 "nbformat_minor": 2
}
