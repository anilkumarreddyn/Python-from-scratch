{
 "cells": [
  {
   "cell_type": "code",
   "execution_count": null,
   "metadata": {},
   "outputs": [],
   "source": [
    "list comprehension \n",
    "map \n",
    "filter \n",
    "lambda  "
   ]
  },
  {
   "cell_type": "code",
   "execution_count": 2,
   "metadata": {},
   "outputs": [
    {
     "name": "stdout",
     "output_type": "stream",
     "text": [
      "[100, 400, 900, 1600, 2500, 3600]\n"
     ]
    }
   ],
   "source": [
    "l = [10,20,30,40,50,60]\n",
    "l2 = [value * value for value in l ]\n",
    "print(l2)"
   ]
  },
  {
   "cell_type": "code",
   "execution_count": null,
   "metadata": {},
   "outputs": [],
   "source": [
    "import timeit\n",
    "\n",
    "t = timeit.timeit(stmt =\"\"\" \"\"\",number = 1 )"
   ]
  },
  {
   "cell_type": "code",
   "execution_count": null,
   "metadata": {},
   "outputs": [],
   "source": [
    "map(sqr,l) \n",
    "filter\n"
   ]
  },
  {
   "cell_type": "code",
   "execution_count": null,
   "metadata": {},
   "outputs": [],
   "source": [
    "Iterators : "
   ]
  },
  {
   "cell_type": "code",
   "execution_count": 3,
   "metadata": {},
   "outputs": [
    {
     "name": "stdout",
     "output_type": "stream",
     "text": [
      "10\n",
      "20\n",
      "30\n",
      "40\n",
      "50\n",
      "60\n"
     ]
    }
   ],
   "source": [
    "l = [10,20,30,40,50,60]\n",
    "for value in l:\n",
    "    print(value)"
   ]
  },
  {
   "cell_type": "code",
   "execution_count": null,
   "metadata": {},
   "outputs": [],
   "source": [
    "iter method and next method is a iterator \n",
    "iter => it can be converted to iterator "
   ]
  },
  {
   "cell_type": "code",
   "execution_count": 4,
   "metadata": {},
   "outputs": [
    {
     "name": "stdout",
     "output_type": "stream",
     "text": [
      "['__add__', '__class__', '__contains__', '__delattr__', '__delitem__', '__dir__', '__doc__', '__eq__', '__format__', '__ge__', '__getattribute__', '__getitem__', '__gt__', '__hash__', '__iadd__', '__imul__', '__init__', '__init_subclass__', '__iter__', '__le__', '__len__', '__lt__', '__mul__', '__ne__', '__new__', '__reduce__', '__reduce_ex__', '__repr__', '__reversed__', '__rmul__', '__setattr__', '__setitem__', '__sizeof__', '__str__', '__subclasshook__', 'append', 'clear', 'copy', 'count', 'extend', 'index', 'insert', 'pop', 'remove', 'reverse', 'sort']\n"
     ]
    }
   ],
   "source": [
    "print(dir(list))"
   ]
  },
  {
   "cell_type": "code",
   "execution_count": 7,
   "metadata": {},
   "outputs": [
    {
     "name": "stdout",
     "output_type": "stream",
     "text": [
      "['__class__', '__delattr__', '__dir__', '__doc__', '__eq__', '__format__', '__ge__', '__getattribute__', '__gt__', '__hash__', '__init__', '__init_subclass__', '__iter__', '__le__', '__lt__', '__ne__', '__new__', '__next__', '__reduce__', '__reduce_ex__', '__repr__', '__setattr__', '__sizeof__', '__str__', '__subclasshook__']\n"
     ]
    }
   ],
   "source": [
    "print(dir(zip))"
   ]
  },
  {
   "cell_type": "code",
   "execution_count": 12,
   "metadata": {},
   "outputs": [
    {
     "name": "stdout",
     "output_type": "stream",
     "text": [
      "<list_iterator object at 0x00000141D3494438>\n",
      "10\n",
      "20\n",
      "30\n",
      "40\n",
      "50\n",
      "60\n",
      "10\n",
      "20\n",
      "30\n",
      "40\n",
      "50\n",
      "60\n"
     ]
    }
   ],
   "source": [
    "l = [10,20,30,40,50,60]\n",
    "i = iter(l)\n",
    "print(i)\n",
    "for value in i:\n",
    "    print(value)\n",
    "\n",
    "j = iter(l)\n",
    "for value in j:\n",
    "    print(value)"
   ]
  },
  {
   "cell_type": "code",
   "execution_count": 10,
   "metadata": {},
   "outputs": [
    {
     "name": "stdout",
     "output_type": "stream",
     "text": [
      "10\n",
      "20\n",
      "30\n",
      "40\n",
      "50\n",
      "60\n",
      "10\n",
      "20\n",
      "30\n",
      "40\n",
      "50\n",
      "60\n"
     ]
    }
   ],
   "source": [
    "l = [10,20,30,40,50,60]\n",
    "for value in l:\n",
    "    print(value)\n",
    "\n",
    "for value in l:\n",
    "    print(value)"
   ]
  },
  {
   "cell_type": "code",
   "execution_count": 16,
   "metadata": {},
   "outputs": [
    {
     "name": "stdout",
     "output_type": "stream",
     "text": [
      "10\n",
      "20\n",
      "30\n",
      "40\n",
      "50\n",
      "60\n"
     ]
    }
   ],
   "source": [
    "l = [10,20,30,40,50,60]\n",
    "i = iter(l)\n",
    "print(next(i))\n",
    "print(next(i))\n",
    "print(next(i))\n",
    "\n",
    "for value in i:\n",
    "    print(value)"
   ]
  },
  {
   "cell_type": "code",
   "execution_count": null,
   "metadata": {},
   "outputs": [],
   "source": [
    "def printVal():\n",
    "\n",
    "printVal()"
   ]
  },
  {
   "cell_type": "code",
   "execution_count": null,
   "metadata": {},
   "outputs": [],
   "source": [
    "Gen : on demand output funcs => function iterators "
   ]
  },
  {
   "cell_type": "code",
   "execution_count": 26,
   "metadata": {},
   "outputs": [
    {
     "name": "stdout",
     "output_type": "stream",
     "text": [
      "<generator object fibo at 0x00000141D3493468>\n",
      "1\n",
      "1\n",
      "2\n",
      "3\n",
      "5\n",
      "8\n",
      "13\n",
      "21\n",
      "34\n",
      "55\n",
      "89\n",
      "144\n",
      "233\n",
      "377\n",
      "610\n",
      "987\n",
      "1597\n",
      "2584\n",
      "4181\n",
      "6765\n",
      "10946\n",
      "17711\n",
      "28657\n",
      "46368\n",
      "75025\n",
      "121393\n",
      "196418\n",
      "317811\n",
      "514229\n",
      "1\n"
     ]
    }
   ],
   "source": [
    "def fibo():\n",
    "    first_num = 0\n",
    "    sec_num = 1 \n",
    "    yield sec_num\n",
    "    while(True):\n",
    "        next_num = first_num + sec_num\n",
    "        yield next_num\n",
    "        first_num,sec_num = sec_num,next_num\n",
    "    \n",
    "\n",
    "g = fibo()\n",
    "print(g)\n",
    "print(next(g))\n",
    "print(next(g))\n",
    "print(next(g))\n",
    "\n",
    "for value in range(5):\n",
    "    print(next(g))\n",
    "count = 0  \n",
    "for value in g:\n",
    "    if count > 20:\n",
    "        break\n",
    "    else:\n",
    "        count+=1\n",
    "        print(value)\n",
    "h = fibo()\n",
    "print(next(h))"
   ]
  },
  {
   "cell_type": "code",
   "execution_count": null,
   "metadata": {},
   "outputs": [],
   "source": [
    "0,1,1,2,3,5,8,13,...."
   ]
  },
  {
   "cell_type": "markdown",
   "metadata": {},
   "source": [
    "        Fun                                  Gen Func\n",
    "        return /None                         yield\n",
    "        execute the entire fun at once       output on demand\n",
    "        this will not maintain the state     Maintains the state of a func "
   ]
  },
  {
   "cell_type": "code",
   "execution_count": 28,
   "metadata": {},
   "outputs": [
    {
     "name": "stdout",
     "output_type": "stream",
     "text": [
      "[100, 400, 900, 1600, 2500]\n"
     ]
    }
   ],
   "source": [
    "def sqr(l):\n",
    "    l2 = [value * value for value in l]\n",
    "    if len(l) > 10:\n",
    "        return l2\n",
    "    else:\n",
    "        print(\"after this there is one more return statemnt\")\n",
    "        return l2 \n",
    "\n",
    "l = [10,20,30,40,50]\n",
    "print(sqr(l))"
   ]
  },
  {
   "cell_type": "code",
   "execution_count": 29,
   "metadata": {},
   "outputs": [],
   "source": [
    "import itertools "
   ]
  },
  {
   "cell_type": "code",
   "execution_count": 37,
   "metadata": {},
   "outputs": [
    {
     "name": "stdout",
     "output_type": "stream",
     "text": [
      "<itertools.chain object at 0x00000141D34B84E0>\n",
      "1\n",
      "2\n",
      "3\n",
      "4\n",
      "5\n",
      "10\n",
      "20\n",
      "30\n",
      "40\n",
      "50\n",
      "Python\n",
      "Django\n",
      "Flask\n",
      "S\n",
      "a\n",
      "m\n",
      "p\n",
      "l\n",
      "e\n",
      " \n",
      "p\n",
      "y\n",
      "t\n",
      "h\n",
      "o\n",
      "n\n",
      " \n",
      "s\n",
      "t\n",
      "r\n",
      "i\n",
      "n\n",
      "g\n",
      " \n"
     ]
    }
   ],
   "source": [
    "l1 = [1,2,3,4,5]\n",
    "l2 = [10,20,30,40,50]\n",
    "l3 = (\"Python\",\"Django\",\"Flask\")\n",
    "s5 = \"Sample python string \"\n",
    "\n",
    "i = itertools.chain(l1,l2,l3,s5)\n",
    "print(i)\n",
    "print(next(i))\n",
    "print(next(i))\n",
    "\n",
    "for value in i:\n",
    "    print(value)"
   ]
  },
  {
   "cell_type": "code",
   "execution_count": null,
   "metadata": {},
   "outputs": [],
   "source": [
    "range(5) 0..4\n",
    "range(10,50) 10 49\n",
    "range(10,50,5) 10 15 .. 45"
   ]
  },
  {
   "cell_type": "code",
   "execution_count": 44,
   "metadata": {},
   "outputs": [
    {
     "name": "stdout",
     "output_type": "stream",
     "text": [
      "50\n"
     ]
    }
   ],
   "source": [
    "i = itertools.count(50,5)\n",
    "# count = 0\n",
    "# for value in i:\n",
    "#     if count >20:\n",
    "#         break\n",
    "#     else:\n",
    "#         count+=1\n",
    "#         print(value)\n",
    "print(next(i))"
   ]
  },
  {
   "cell_type": "code",
   "execution_count": 49,
   "metadata": {},
   "outputs": [
    {
     "name": "stdout",
     "output_type": "stream",
     "text": [
      "(<itertools._tee object at 0x00000141D34C8C88>, <itertools._tee object at 0x00000141D34C8A88>, <itertools._tee object at 0x00000141D34C8CC8>, <itertools._tee object at 0x00000141D34C8BC8>, <itertools._tee object at 0x00000141D34C8E48>)\n",
      "1\n",
      "2\n",
      "3\n",
      "4\n",
      "5\n",
      "10\n",
      "20\n",
      "30\n",
      "40\n",
      "50\n",
      "1\n",
      "2\n",
      "3\n",
      "4\n",
      "5\n",
      "10\n",
      "20\n",
      "30\n",
      "40\n",
      "50\n"
     ]
    }
   ],
   "source": [
    "l1 = [1,2,3,4,5]\n",
    "l2 = [10,20,30,40,50]\n",
    "l3 = (\"Python\",\"Django\",\"Flask\")\n",
    "s5 = \"Sample python string \"\n",
    "\n",
    "i = itertools.chain(l1,l2)\n",
    "t = itertools.tee(i,5)\n",
    "print(t)\n",
    "for value in t[0]:\n",
    "    print(value)\n",
    "# j = itertools.chain(l1,l2)\n",
    "for value in t[1]:\n",
    "    print(value)"
   ]
  },
  {
   "cell_type": "code",
   "execution_count": 52,
   "metadata": {},
   "outputs": [
    {
     "name": "stdout",
     "output_type": "stream",
     "text": [
      "10\n",
      "20\n",
      "30\n",
      "40\n",
      "50\n",
      "60\n",
      "10\n",
      "20\n",
      "30\n",
      "40\n",
      "50\n",
      "60\n",
      "10\n",
      "20\n",
      "30\n",
      "40\n",
      "50\n",
      "60\n",
      "10\n",
      "20\n",
      "30\n"
     ]
    }
   ],
   "source": [
    "l = [10,20,30,40,50,60]\n",
    "count = 0\n",
    "for value in itertools.cycle(l):\n",
    "    if count > 20:\n",
    "        break\n",
    "    else:\n",
    "        count+=1\n",
    "        print(value)"
   ]
  },
  {
   "cell_type": "code",
   "execution_count": 55,
   "metadata": {},
   "outputs": [
    {
     "name": "stdout",
     "output_type": "stream",
     "text": [
      "[(10, 20), (10, 30), (20, 10), (20, 30), (30, 10), (30, 20)]\n",
      "[(10, 20), (10, 30), (20, 30)]\n"
     ]
    }
   ],
   "source": [
    "l = [10,20,30]\n",
    "print(list(itertools.permutations(l,2)))\n",
    "print(list(itertools.combinations(l,2)))"
   ]
  },
  {
   "cell_type": "code",
   "execution_count": null,
   "metadata": {},
   "outputs": [],
   "source": [
    "chain \n",
    "cycle\n",
    "permutation \n",
    "combinations \n",
    "count "
   ]
  }
 ],
 "metadata": {
  "kernelspec": {
   "display_name": "Python 3",
   "language": "python",
   "name": "python3"
  },
  "language_info": {
   "codemirror_mode": {
    "name": "ipython",
    "version": 3
   },
   "file_extension": ".py",
   "mimetype": "text/x-python",
   "name": "python",
   "nbconvert_exporter": "python",
   "pygments_lexer": "ipython3",
   "version": "3.6.5"
  }
 },
 "nbformat": 4,
 "nbformat_minor": 2
}
